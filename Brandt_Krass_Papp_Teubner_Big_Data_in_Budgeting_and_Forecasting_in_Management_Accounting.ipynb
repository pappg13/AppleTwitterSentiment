{
  "nbformat": 4,
  "nbformat_minor": 0,
  "metadata": {
    "colab": {
      "name": "Brandt_Krass_Papp_Teubner - Big Data in Budgeting and Forecasting in Management Accounting.ipynb",
      "provenance": [],
      "collapsed_sections": [],
      "toc_visible": true,
      "include_colab_link": true
    },
    "kernelspec": {
      "name": "python3",
      "display_name": "Python 3"
    }
  },
  "cells": [
    {
      "cell_type": "markdown",
      "metadata": {
        "id": "view-in-github",
        "colab_type": "text"
      },
      "source": [
        "<a href=\"https://colab.research.google.com/github/pappg13/AppleTwitterSentiment/blob/main/Brandt_Krass_Papp_Teubner_Big_Data_in_Budgeting_and_Forecasting_in_Management_Accounting.ipynb\" target=\"_parent\"><img src=\"https://colab.research.google.com/assets/colab-badge.svg\" alt=\"Open In Colab\"/></a>"
      ]
    },
    {
      "cell_type": "markdown",
      "metadata": {
        "id": "Xg9jnptPse5B"
      },
      "source": [
        "#Package and Data Import"
      ]
    },
    {
      "cell_type": "code",
      "metadata": {
        "id": "85TjQDfGBQrg"
      },
      "source": [
        "import pandas as pd\n",
        "import numpy as np\n",
        "import matplotlib.pylab as plt"
      ],
      "execution_count": 1,
      "outputs": []
    },
    {
      "cell_type": "code",
      "metadata": {
        "id": "5Od1c8mrILp9"
      },
      "source": [
        "from sklearn.linear_model import LinearRegression\n",
        "from sklearn import linear_model\n",
        "from sklearn.model_selection import train_test_split"
      ],
      "execution_count": 2,
      "outputs": []
    },
    {
      "cell_type": "markdown",
      "metadata": {
        "id": "4JfUHHlm6T7x"
      },
      "source": [
        "Vader is the lexicon that helps us to assign sentyment scores to the tweets.\n",
        "\n"
      ]
    },
    {
      "cell_type": "code",
      "metadata": {
        "id": "yCbKOhTHZX0Q",
        "colab": {
          "base_uri": "https://localhost:8080/"
        },
        "outputId": "58839210-8c0e-4f02-c44c-ee5f80365826"
      },
      "source": [
        "pip install vaderSentiment"
      ],
      "execution_count": 3,
      "outputs": [
        {
          "output_type": "stream",
          "text": [
            "Collecting vaderSentiment\n",
            "\u001b[?25l  Downloading https://files.pythonhosted.org/packages/76/fc/310e16254683c1ed35eeb97386986d6c00bc29df17ce280aed64d55537e9/vaderSentiment-3.3.2-py2.py3-none-any.whl (125kB)\n",
            "\r\u001b[K     |██▋                             | 10kB 18.2MB/s eta 0:00:01\r\u001b[K     |█████▏                          | 20kB 21.0MB/s eta 0:00:01\r\u001b[K     |███████▉                        | 30kB 19.5MB/s eta 0:00:01\r\u001b[K     |██████████▍                     | 40kB 18.9MB/s eta 0:00:01\r\u001b[K     |█████████████                   | 51kB 15.4MB/s eta 0:00:01\r\u001b[K     |███████████████▋                | 61kB 12.8MB/s eta 0:00:01\r\u001b[K     |██████████████████▏             | 71kB 12.4MB/s eta 0:00:01\r\u001b[K     |████████████████████▉           | 81kB 12.7MB/s eta 0:00:01\r\u001b[K     |███████████████████████▍        | 92kB 12.7MB/s eta 0:00:01\r\u001b[K     |██████████████████████████      | 102kB 12.4MB/s eta 0:00:01\r\u001b[K     |████████████████████████████▋   | 112kB 12.4MB/s eta 0:00:01\r\u001b[K     |███████████████████████████████▏| 122kB 12.4MB/s eta 0:00:01\r\u001b[K     |████████████████████████████████| 133kB 12.4MB/s \n",
            "\u001b[?25hRequirement already satisfied: requests in /usr/local/lib/python3.6/dist-packages (from vaderSentiment) (2.23.0)\n",
            "Requirement already satisfied: chardet<4,>=3.0.2 in /usr/local/lib/python3.6/dist-packages (from requests->vaderSentiment) (3.0.4)\n",
            "Requirement already satisfied: idna<3,>=2.5 in /usr/local/lib/python3.6/dist-packages (from requests->vaderSentiment) (2.10)\n",
            "Requirement already satisfied: urllib3!=1.25.0,!=1.25.1,<1.26,>=1.21.1 in /usr/local/lib/python3.6/dist-packages (from requests->vaderSentiment) (1.24.3)\n",
            "Requirement already satisfied: certifi>=2017.4.17 in /usr/local/lib/python3.6/dist-packages (from requests->vaderSentiment) (2020.12.5)\n",
            "Installing collected packages: vaderSentiment\n",
            "Successfully installed vaderSentiment-3.3.2\n"
          ],
          "name": "stdout"
        }
      ]
    },
    {
      "cell_type": "code",
      "metadata": {
        "id": "4asqyA1FZfHl"
      },
      "source": [
        "from vaderSentiment.vaderSentiment import SentimentIntensityAnalyzer\n",
        "\n",
        "analyser = SentimentIntensityAnalyzer()"
      ],
      "execution_count": 4,
      "outputs": []
    },
    {
      "cell_type": "code",
      "metadata": {
        "id": "v6syGx45Zqaf"
      },
      "source": [
        "def print_sentiment_scores(sentence):\n",
        "    snt = analyser.polarity_scores(sentence)\n",
        "    print(\"{:-<40} {}\".format(sentence, str(snt)))"
      ],
      "execution_count": 5,
      "outputs": []
    },
    {
      "cell_type": "code",
      "metadata": {
        "id": "8rAulkgfZr91",
        "colab": {
          "base_uri": "https://localhost:8080/"
        },
        "outputId": "806d1a17-a2d2-4690-ea0e-051cf0a8b3a5"
      },
      "source": [
        "#This code does the categorisation. The compound score is the one that we need.\n",
        "print_sentiment_scores(\"The class was AWESOME today!!!!!!!\")"
      ],
      "execution_count": 6,
      "outputs": [
        {
          "output_type": "stream",
          "text": [
            "The class was AWESOME today!!!!!!!------ {'neg': 0.0, 'neu': 0.4, 'pos': 0.6, 'compound': 0.7906}\n"
          ],
          "name": "stdout"
        }
      ]
    },
    {
      "cell_type": "code",
      "metadata": {
        "id": "rryrpYr6BHrh",
        "colab": {
          "base_uri": "https://localhost:8080/",
          "height": 568
        },
        "outputId": "d7737c06-8e9a-4f64-eb3b-4a37b8697489"
      },
      "source": [
        "#Twitter data file was too large to upload it to GitHub so we split it into 2 parts. \n",
        "#First they are going to be imported separately, and then they will be merged.\n",
        "\n",
        "tweet_part1_url = 'https://github.com/pappg13/AppleTwitterSentiment/blob/main/Tweets_part1.xlsx?raw=true'\n",
        "tweet_part1 = pd.read_excel(tweet_part1_url)\n",
        "#booking1.head()\n",
        "\n",
        "tweet_part2_url = 'https://github.com/pappg13/AppleTwitterSentiment/blob/main/Tweets_part2.xlsx?raw=true'\n",
        "tweet_part2 = pd.read_excel(tweet_part2_url)\n",
        "#booking2.head()\n",
        "\n",
        "\n",
        "tweets = pd.concat([tweet_part1, tweet_part2], ignore_index=True)\n",
        "tweets.head()"
      ],
      "execution_count": 7,
      "outputs": [
        {
          "output_type": "execute_result",
          "data": {
            "text/html": [
              "<div>\n",
              "<style scoped>\n",
              "    .dataframe tbody tr th:only-of-type {\n",
              "        vertical-align: middle;\n",
              "    }\n",
              "\n",
              "    .dataframe tbody tr th {\n",
              "        vertical-align: top;\n",
              "    }\n",
              "\n",
              "    .dataframe thead th {\n",
              "        text-align: right;\n",
              "    }\n",
              "</style>\n",
              "<table border=\"1\" class=\"dataframe\">\n",
              "  <thead>\n",
              "    <tr style=\"text-align: right;\">\n",
              "      <th></th>\n",
              "      <th>Tweet Id</th>\n",
              "      <th>Date</th>\n",
              "      <th>Hour</th>\n",
              "      <th>User Name</th>\n",
              "      <th>Nickname</th>\n",
              "      <th>Bio</th>\n",
              "      <th>Tweet content</th>\n",
              "      <th>Favs</th>\n",
              "      <th>RTs</th>\n",
              "      <th>Latitude</th>\n",
              "      <th>Longitude</th>\n",
              "      <th>Country</th>\n",
              "      <th>Place (as appears on Bio)</th>\n",
              "      <th>Profile picture</th>\n",
              "      <th>Followers</th>\n",
              "      <th>Following</th>\n",
              "      <th>Listed</th>\n",
              "      <th>Tweet language (ISO 639-1)</th>\n",
              "      <th>Tweet Url</th>\n",
              "      <th>Is a RT</th>\n",
              "      <th>Original Tweet User Name</th>\n",
              "      <th>User Mentions</th>\n",
              "      <th>Hashtags</th>\n",
              "      <th>Symbols</th>\n",
              "      <th>Media</th>\n",
              "      <th>URLs</th>\n",
              "    </tr>\n",
              "  </thead>\n",
              "  <tbody>\n",
              "    <tr>\n",
              "      <th>0</th>\n",
              "      <td>743056393796739072</td>\n",
              "      <td>2016-06-15</td>\n",
              "      <td>12:23</td>\n",
              "      <td>Sufiy</td>\n",
              "      <td>Sufiy</td>\n",
              "      <td>#Investing as a way of life based on common se...</td>\n",
              "      <td>RT @kirillklip: Race for #renewable #energy #t...</td>\n",
              "      <td>NaN</td>\n",
              "      <td>4.0</td>\n",
              "      <td>NaN</td>\n",
              "      <td>NaN</td>\n",
              "      <td>NaN</td>\n",
              "      <td>NaN</td>\n",
              "      <td>http://pbs.twimg.com/profile_images/292857657/...</td>\n",
              "      <td>1798.0</td>\n",
              "      <td>2111.0</td>\n",
              "      <td>537.0</td>\n",
              "      <td>da</td>\n",
              "      <td>http://www.twitter.com/Sufiy/status/7430563937...</td>\n",
              "      <td>True</td>\n",
              "      <td>@kirillklip</td>\n",
              "      <td>@kirillklip</td>\n",
              "      <td>#renewable,#energy,#technologies,#lithium,#hed...</td>\n",
              "      <td>$LIT,$ILV.v,$TSLA,$AAPL</td>\n",
              "      <td>NaN</td>\n",
              "      <td>http://www.bnn.ca/News/2016/5/7/Race-for-renew...</td>\n",
              "    </tr>\n",
              "    <tr>\n",
              "      <th>1</th>\n",
              "      <td>743055905214889984</td>\n",
              "      <td>2016-06-15</td>\n",
              "      <td>12:21</td>\n",
              "      <td>Breaking News</td>\n",
              "      <td>HotpageNews</td>\n",
              "      <td>One Stop Shop for BREAKING AND TRENDING NEWS. ...</td>\n",
              "      <td>#APPLE TRIES to Limit #Google Incursions Onto ...</td>\n",
              "      <td>NaN</td>\n",
              "      <td>NaN</td>\n",
              "      <td>42.35843</td>\n",
              "      <td>-71.05977</td>\n",
              "      <td>US</td>\n",
              "      <td>Boston</td>\n",
              "      <td>http://pbs.twimg.com/profile_images/5138456212...</td>\n",
              "      <td>222.0</td>\n",
              "      <td>346.0</td>\n",
              "      <td>163.0</td>\n",
              "      <td>en</td>\n",
              "      <td>http://www.twitter.com/HotpageNews/status/7430...</td>\n",
              "      <td>False</td>\n",
              "      <td>NaN</td>\n",
              "      <td>NaN</td>\n",
              "      <td>#APPLE,#Google</td>\n",
              "      <td>$AAPL,$GOOG</td>\n",
              "      <td>NaN</td>\n",
              "      <td>http://hotpagenews.com/r/150730</td>\n",
              "    </tr>\n",
              "    <tr>\n",
              "      <th>2</th>\n",
              "      <td>743055905193857024</td>\n",
              "      <td>2016-06-15</td>\n",
              "      <td>12:21</td>\n",
              "      <td>Hotpage News</td>\n",
              "      <td>Hotpage_News</td>\n",
              "      <td>The One Stop WEBSITE for Breaking and Trending...</td>\n",
              "      <td>#APPLE TRIES to Limit #Google Incursions Onto ...</td>\n",
              "      <td>NaN</td>\n",
              "      <td>NaN</td>\n",
              "      <td>NaN</td>\n",
              "      <td>NaN</td>\n",
              "      <td>NaN</td>\n",
              "      <td>NaN</td>\n",
              "      <td>http://pbs.twimg.com/profile_images/5138153039...</td>\n",
              "      <td>16177.0</td>\n",
              "      <td>1333.0</td>\n",
              "      <td>427.0</td>\n",
              "      <td>en</td>\n",
              "      <td>http://www.twitter.com/Hotpage_News/status/743...</td>\n",
              "      <td>False</td>\n",
              "      <td>NaN</td>\n",
              "      <td>NaN</td>\n",
              "      <td>#APPLE,#Google</td>\n",
              "      <td>$AAPL,$GOOG</td>\n",
              "      <td>NaN</td>\n",
              "      <td>http://hotpagenews.com/r/150730</td>\n",
              "    </tr>\n",
              "    <tr>\n",
              "      <th>3</th>\n",
              "      <td>743055497725673472</td>\n",
              "      <td>2016-06-15</td>\n",
              "      <td>12:20</td>\n",
              "      <td>Danny</td>\n",
              "      <td>TraderDanny77</td>\n",
              "      <td>Family Man, entrepreneur, wanna be trader, Tha...</td>\n",
              "      <td>What calls do I sell on $twtr\\n\\n$spy $aapl $g...</td>\n",
              "      <td>NaN</td>\n",
              "      <td>NaN</td>\n",
              "      <td>46.47747</td>\n",
              "      <td>30.73262</td>\n",
              "      <td>UA</td>\n",
              "      <td>Odessa, FL</td>\n",
              "      <td>http://pbs.twimg.com/profile_images/7398402031...</td>\n",
              "      <td>87.0</td>\n",
              "      <td>406.0</td>\n",
              "      <td>5.0</td>\n",
              "      <td>en</td>\n",
              "      <td>http://www.twitter.com/TraderDanny77/status/74...</td>\n",
              "      <td>False</td>\n",
              "      <td>NaN</td>\n",
              "      <td>NaN</td>\n",
              "      <td>NaN</td>\n",
              "      <td>$twtr,$spy,$aapl,$googl,$tsla,$ibm,$wba,$scty,...</td>\n",
              "      <td>NaN</td>\n",
              "      <td>NaN</td>\n",
              "    </tr>\n",
              "    <tr>\n",
              "      <th>4</th>\n",
              "      <td>743055311909441536</td>\n",
              "      <td>2016-06-15</td>\n",
              "      <td>12:19</td>\n",
              "      <td>Jayson</td>\n",
              "      <td>hovastocks</td>\n",
              "      <td>Father | Investor in life | Runner | Cyclist</td>\n",
              "      <td>Good for $AAPL pay? https://t.co/6EuitFi8Au</td>\n",
              "      <td>NaN</td>\n",
              "      <td>NaN</td>\n",
              "      <td>NaN</td>\n",
              "      <td>NaN</td>\n",
              "      <td>NaN</td>\n",
              "      <td>NaN</td>\n",
              "      <td>http://pbs.twimg.com/profile_images/7185906846...</td>\n",
              "      <td>387.0</td>\n",
              "      <td>353.0</td>\n",
              "      <td>20.0</td>\n",
              "      <td>en</td>\n",
              "      <td>http://www.twitter.com/hovastocks/status/74305...</td>\n",
              "      <td>False</td>\n",
              "      <td>NaN</td>\n",
              "      <td>NaN</td>\n",
              "      <td>NaN</td>\n",
              "      <td>$AAPL</td>\n",
              "      <td>NaN</td>\n",
              "      <td>https://twitter.com/businessinsider/status/742...</td>\n",
              "    </tr>\n",
              "  </tbody>\n",
              "</table>\n",
              "</div>"
            ],
            "text/plain": [
              "             Tweet Id  ...                                               URLs\n",
              "0  743056393796739072  ...  http://www.bnn.ca/News/2016/5/7/Race-for-renew...\n",
              "1  743055905214889984  ...                    http://hotpagenews.com/r/150730\n",
              "2  743055905193857024  ...                    http://hotpagenews.com/r/150730\n",
              "3  743055497725673472  ...                                                NaN\n",
              "4  743055311909441536  ...  https://twitter.com/businessinsider/status/742...\n",
              "\n",
              "[5 rows x 26 columns]"
            ]
          },
          "metadata": {
            "tags": []
          },
          "execution_count": 7
        }
      ]
    },
    {
      "cell_type": "code",
      "metadata": {
        "id": "OqeIOPmKCqsY",
        "colab": {
          "base_uri": "https://localhost:8080/"
        },
        "outputId": "cb2fdc3c-a1e0-4106-943e-78c8c9a5ee90"
      },
      "source": [
        "tweets.info()"
      ],
      "execution_count": 8,
      "outputs": [
        {
          "output_type": "stream",
          "text": [
            "<class 'pandas.core.frame.DataFrame'>\n",
            "RangeIndex: 166631 entries, 0 to 166630\n",
            "Data columns (total 26 columns):\n",
            " #   Column                      Non-Null Count   Dtype  \n",
            "---  ------                      --------------   -----  \n",
            " 0   Tweet Id                    166631 non-null  int64  \n",
            " 1   Date                        166631 non-null  object \n",
            " 2   Hour                        166631 non-null  object \n",
            " 3   User Name                   166631 non-null  object \n",
            " 4   Nickname                    166631 non-null  object \n",
            " 5   Bio                         142749 non-null  object \n",
            " 6   Tweet content               166631 non-null  object \n",
            " 7   Favs                        20706 non-null   float64\n",
            " 8   RTs                         90074 non-null   float64\n",
            " 9   Latitude                    59642 non-null   float64\n",
            " 10  Longitude                   59642 non-null   float64\n",
            " 11  Country                     59824 non-null   object \n",
            " 12  Place (as appears on Bio)   60010 non-null   object \n",
            " 13  Profile picture             166631 non-null  object \n",
            " 14  Followers                   165021 non-null  float64\n",
            " 15  Following                   160783 non-null  float64\n",
            " 16  Listed                      158988 non-null  float64\n",
            " 17  Tweet language (ISO 639-1)  166631 non-null  object \n",
            " 18  Tweet Url                   166631 non-null  object \n",
            " 19  Is a RT                     166631 non-null  bool   \n",
            " 20  Original Tweet User Name    70053 non-null   object \n",
            " 21  User Mentions               81536 non-null   object \n",
            " 22  Hashtags                    70376 non-null   object \n",
            " 23  Symbols                     166546 non-null  object \n",
            " 24  Media                       43361 non-null   object \n",
            " 25  URLs                        108043 non-null  object \n",
            "dtypes: bool(1), float64(7), int64(1), object(17)\n",
            "memory usage: 31.9+ MB\n"
          ],
          "name": "stdout"
        }
      ]
    },
    {
      "cell_type": "code",
      "metadata": {
        "id": "UhdMGMyOCjEU",
        "colab": {
          "base_uri": "https://localhost:8080/",
          "height": 191
        },
        "outputId": "ab51e33f-007f-40e4-c0d5-b2ab14246271"
      },
      "source": [
        "# Getting rid of columns in Tweets that we don't need\n",
        "\n",
        "\n",
        "tweets = tweets.drop (['Nickname', 'Bio', 'Favs', 'RTs', 'Place (as appears on Bio)', 'Profile picture' , 'Followers', 'Following', 'Listed', 'Tweet Url', 'Is a RT', 'Original Tweet User Name', 'User Mentions', 'Hashtags', 'Symbols', 'Media', 'URLs'], axis = 1 )\n",
        "tweets.head()"
      ],
      "execution_count": 9,
      "outputs": [
        {
          "output_type": "execute_result",
          "data": {
            "text/html": [
              "<div>\n",
              "<style scoped>\n",
              "    .dataframe tbody tr th:only-of-type {\n",
              "        vertical-align: middle;\n",
              "    }\n",
              "\n",
              "    .dataframe tbody tr th {\n",
              "        vertical-align: top;\n",
              "    }\n",
              "\n",
              "    .dataframe thead th {\n",
              "        text-align: right;\n",
              "    }\n",
              "</style>\n",
              "<table border=\"1\" class=\"dataframe\">\n",
              "  <thead>\n",
              "    <tr style=\"text-align: right;\">\n",
              "      <th></th>\n",
              "      <th>Tweet Id</th>\n",
              "      <th>Date</th>\n",
              "      <th>Hour</th>\n",
              "      <th>User Name</th>\n",
              "      <th>Tweet content</th>\n",
              "      <th>Latitude</th>\n",
              "      <th>Longitude</th>\n",
              "      <th>Country</th>\n",
              "      <th>Tweet language (ISO 639-1)</th>\n",
              "    </tr>\n",
              "  </thead>\n",
              "  <tbody>\n",
              "    <tr>\n",
              "      <th>0</th>\n",
              "      <td>743056393796739072</td>\n",
              "      <td>2016-06-15</td>\n",
              "      <td>12:23</td>\n",
              "      <td>Sufiy</td>\n",
              "      <td>RT @kirillklip: Race for #renewable #energy #t...</td>\n",
              "      <td>NaN</td>\n",
              "      <td>NaN</td>\n",
              "      <td>NaN</td>\n",
              "      <td>da</td>\n",
              "    </tr>\n",
              "    <tr>\n",
              "      <th>1</th>\n",
              "      <td>743055905214889984</td>\n",
              "      <td>2016-06-15</td>\n",
              "      <td>12:21</td>\n",
              "      <td>Breaking News</td>\n",
              "      <td>#APPLE TRIES to Limit #Google Incursions Onto ...</td>\n",
              "      <td>42.35843</td>\n",
              "      <td>-71.05977</td>\n",
              "      <td>US</td>\n",
              "      <td>en</td>\n",
              "    </tr>\n",
              "    <tr>\n",
              "      <th>2</th>\n",
              "      <td>743055905193857024</td>\n",
              "      <td>2016-06-15</td>\n",
              "      <td>12:21</td>\n",
              "      <td>Hotpage News</td>\n",
              "      <td>#APPLE TRIES to Limit #Google Incursions Onto ...</td>\n",
              "      <td>NaN</td>\n",
              "      <td>NaN</td>\n",
              "      <td>NaN</td>\n",
              "      <td>en</td>\n",
              "    </tr>\n",
              "    <tr>\n",
              "      <th>3</th>\n",
              "      <td>743055497725673472</td>\n",
              "      <td>2016-06-15</td>\n",
              "      <td>12:20</td>\n",
              "      <td>Danny</td>\n",
              "      <td>What calls do I sell on $twtr\\n\\n$spy $aapl $g...</td>\n",
              "      <td>46.47747</td>\n",
              "      <td>30.73262</td>\n",
              "      <td>UA</td>\n",
              "      <td>en</td>\n",
              "    </tr>\n",
              "    <tr>\n",
              "      <th>4</th>\n",
              "      <td>743055311909441536</td>\n",
              "      <td>2016-06-15</td>\n",
              "      <td>12:19</td>\n",
              "      <td>Jayson</td>\n",
              "      <td>Good for $AAPL pay? https://t.co/6EuitFi8Au</td>\n",
              "      <td>NaN</td>\n",
              "      <td>NaN</td>\n",
              "      <td>NaN</td>\n",
              "      <td>en</td>\n",
              "    </tr>\n",
              "  </tbody>\n",
              "</table>\n",
              "</div>"
            ],
            "text/plain": [
              "             Tweet Id        Date  ... Country Tweet language (ISO 639-1)\n",
              "0  743056393796739072  2016-06-15  ...     NaN                         da\n",
              "1  743055905214889984  2016-06-15  ...      US                         en\n",
              "2  743055905193857024  2016-06-15  ...     NaN                         en\n",
              "3  743055497725673472  2016-06-15  ...      UA                         en\n",
              "4  743055311909441536  2016-06-15  ...     NaN                         en\n",
              "\n",
              "[5 rows x 9 columns]"
            ]
          },
          "metadata": {
            "tags": []
          },
          "execution_count": 9
        }
      ]
    },
    {
      "cell_type": "code",
      "metadata": {
        "id": "aStp-zrfDZG5",
        "colab": {
          "base_uri": "https://localhost:8080/",
          "height": 335
        },
        "outputId": "835c131f-18f8-4083-ea0d-cc966a13dde2"
      },
      "source": [
        "#As our model will be able to interpretTweets that are written in English only, we will drop thos tweets, where the Tweet language value is not 'en'\n",
        "tweets=tweets.loc[tweets['Tweet language (ISO 639-1)']=='en']\n",
        "tweets.head(10)"
      ],
      "execution_count": 10,
      "outputs": [
        {
          "output_type": "execute_result",
          "data": {
            "text/html": [
              "<div>\n",
              "<style scoped>\n",
              "    .dataframe tbody tr th:only-of-type {\n",
              "        vertical-align: middle;\n",
              "    }\n",
              "\n",
              "    .dataframe tbody tr th {\n",
              "        vertical-align: top;\n",
              "    }\n",
              "\n",
              "    .dataframe thead th {\n",
              "        text-align: right;\n",
              "    }\n",
              "</style>\n",
              "<table border=\"1\" class=\"dataframe\">\n",
              "  <thead>\n",
              "    <tr style=\"text-align: right;\">\n",
              "      <th></th>\n",
              "      <th>Tweet Id</th>\n",
              "      <th>Date</th>\n",
              "      <th>Hour</th>\n",
              "      <th>User Name</th>\n",
              "      <th>Tweet content</th>\n",
              "      <th>Latitude</th>\n",
              "      <th>Longitude</th>\n",
              "      <th>Country</th>\n",
              "      <th>Tweet language (ISO 639-1)</th>\n",
              "    </tr>\n",
              "  </thead>\n",
              "  <tbody>\n",
              "    <tr>\n",
              "      <th>1</th>\n",
              "      <td>743055905214889984</td>\n",
              "      <td>2016-06-15</td>\n",
              "      <td>12:21</td>\n",
              "      <td>Breaking News</td>\n",
              "      <td>#APPLE TRIES to Limit #Google Incursions Onto ...</td>\n",
              "      <td>42.35843</td>\n",
              "      <td>-71.05977</td>\n",
              "      <td>US</td>\n",
              "      <td>en</td>\n",
              "    </tr>\n",
              "    <tr>\n",
              "      <th>2</th>\n",
              "      <td>743055905193857024</td>\n",
              "      <td>2016-06-15</td>\n",
              "      <td>12:21</td>\n",
              "      <td>Hotpage News</td>\n",
              "      <td>#APPLE TRIES to Limit #Google Incursions Onto ...</td>\n",
              "      <td>NaN</td>\n",
              "      <td>NaN</td>\n",
              "      <td>NaN</td>\n",
              "      <td>en</td>\n",
              "    </tr>\n",
              "    <tr>\n",
              "      <th>3</th>\n",
              "      <td>743055497725673472</td>\n",
              "      <td>2016-06-15</td>\n",
              "      <td>12:20</td>\n",
              "      <td>Danny</td>\n",
              "      <td>What calls do I sell on $twtr\\n\\n$spy $aapl $g...</td>\n",
              "      <td>46.47747</td>\n",
              "      <td>30.73262</td>\n",
              "      <td>UA</td>\n",
              "      <td>en</td>\n",
              "    </tr>\n",
              "    <tr>\n",
              "      <th>4</th>\n",
              "      <td>743055311909441536</td>\n",
              "      <td>2016-06-15</td>\n",
              "      <td>12:19</td>\n",
              "      <td>Jayson</td>\n",
              "      <td>Good for $AAPL pay? https://t.co/6EuitFi8Au</td>\n",
              "      <td>NaN</td>\n",
              "      <td>NaN</td>\n",
              "      <td>NaN</td>\n",
              "      <td>en</td>\n",
              "    </tr>\n",
              "    <tr>\n",
              "      <th>5</th>\n",
              "      <td>743055468315185152</td>\n",
              "      <td>2016-06-15</td>\n",
              "      <td>12:20</td>\n",
              "      <td>Jennifer Booton</td>\n",
              "      <td>Apple may again see a super cycle akin to the ...</td>\n",
              "      <td>53.95800</td>\n",
              "      <td>-1.08300</td>\n",
              "      <td>GB</td>\n",
              "      <td>en</td>\n",
              "    </tr>\n",
              "    <tr>\n",
              "      <th>6</th>\n",
              "      <td>743055167143194624</td>\n",
              "      <td>2016-06-15</td>\n",
              "      <td>12:18</td>\n",
              "      <td>ciara linnane</td>\n",
              "      <td>Time to talk iPhone 8: Apple ‘super cycle’ exp...</td>\n",
              "      <td>53.95800</td>\n",
              "      <td>-1.08300</td>\n",
              "      <td>GB</td>\n",
              "      <td>en</td>\n",
              "    </tr>\n",
              "    <tr>\n",
              "      <th>7</th>\n",
              "      <td>743054736878936068</td>\n",
              "      <td>2016-06-15</td>\n",
              "      <td>12:17</td>\n",
              "      <td>Pete Rickels</td>\n",
              "      <td>Where will $AAPL pin on Friday's OPEX?</td>\n",
              "      <td>NaN</td>\n",
              "      <td>NaN</td>\n",
              "      <td>NaN</td>\n",
              "      <td>en</td>\n",
              "    </tr>\n",
              "    <tr>\n",
              "      <th>8</th>\n",
              "      <td>743053821732114433</td>\n",
              "      <td>2016-06-15</td>\n",
              "      <td>12:13</td>\n",
              "      <td>Danny</td>\n",
              "      <td>@jack $lnkd $twtr $spy $aapl $tsla $fb $ibm $s...</td>\n",
              "      <td>46.47747</td>\n",
              "      <td>30.73262</td>\n",
              "      <td>UA</td>\n",
              "      <td>en</td>\n",
              "    </tr>\n",
              "    <tr>\n",
              "      <th>9</th>\n",
              "      <td>743053820364783617</td>\n",
              "      <td>2016-06-15</td>\n",
              "      <td>12:13</td>\n",
              "      <td>Andreas Andersen</td>\n",
              "      <td>RT @andreascseh: #iPhone6s vs #iPhone7: 4 Reas...</td>\n",
              "      <td>47.49801</td>\n",
              "      <td>19.03991</td>\n",
              "      <td>HU</td>\n",
              "      <td>en</td>\n",
              "    </tr>\n",
              "    <tr>\n",
              "      <th>11</th>\n",
              "      <td>743053694564995073</td>\n",
              "      <td>2016-06-15</td>\n",
              "      <td>12:13</td>\n",
              "      <td>Ricky Samuel</td>\n",
              "      <td>RT @DayTradeWarrior: We now have a Paper #Trad...</td>\n",
              "      <td>NaN</td>\n",
              "      <td>NaN</td>\n",
              "      <td>NaN</td>\n",
              "      <td>en</td>\n",
              "    </tr>\n",
              "  </tbody>\n",
              "</table>\n",
              "</div>"
            ],
            "text/plain": [
              "              Tweet Id        Date  ... Country Tweet language (ISO 639-1)\n",
              "1   743055905214889984  2016-06-15  ...      US                         en\n",
              "2   743055905193857024  2016-06-15  ...     NaN                         en\n",
              "3   743055497725673472  2016-06-15  ...      UA                         en\n",
              "4   743055311909441536  2016-06-15  ...     NaN                         en\n",
              "5   743055468315185152  2016-06-15  ...      GB                         en\n",
              "6   743055167143194624  2016-06-15  ...      GB                         en\n",
              "7   743054736878936068  2016-06-15  ...     NaN                         en\n",
              "8   743053821732114433  2016-06-15  ...      UA                         en\n",
              "9   743053820364783617  2016-06-15  ...      HU                         en\n",
              "11  743053694564995073  2016-06-15  ...     NaN                         en\n",
              "\n",
              "[10 rows x 9 columns]"
            ]
          },
          "metadata": {
            "tags": []
          },
          "execution_count": 10
        }
      ]
    },
    {
      "cell_type": "code",
      "metadata": {
        "id": "WrO7z0DWE9kg",
        "colab": {
          "base_uri": "https://localhost:8080/"
        },
        "outputId": "f144747a-54ef-4126-92f9-6017d1877f13"
      },
      "source": [
        "tweets.info()"
      ],
      "execution_count": 11,
      "outputs": [
        {
          "output_type": "stream",
          "text": [
            "<class 'pandas.core.frame.DataFrame'>\n",
            "Int64Index: 159864 entries, 1 to 166630\n",
            "Data columns (total 9 columns):\n",
            " #   Column                      Non-Null Count   Dtype  \n",
            "---  ------                      --------------   -----  \n",
            " 0   Tweet Id                    159864 non-null  int64  \n",
            " 1   Date                        159864 non-null  object \n",
            " 2   Hour                        159864 non-null  object \n",
            " 3   User Name                   159864 non-null  object \n",
            " 4   Tweet content               159864 non-null  object \n",
            " 5   Latitude                    56892 non-null   float64\n",
            " 6   Longitude                   56892 non-null   float64\n",
            " 7   Country                     57066 non-null   object \n",
            " 8   Tweet language (ISO 639-1)  159864 non-null  object \n",
            "dtypes: float64(2), int64(1), object(6)\n",
            "memory usage: 12.2+ MB\n"
          ],
          "name": "stdout"
        }
      ]
    },
    {
      "cell_type": "markdown",
      "metadata": {
        "id": "5txMIL5QFaFh"
      },
      "source": [
        "So we successfully deleted 6766 rows, where the language was not English. Great!"
      ]
    },
    {
      "cell_type": "code",
      "metadata": {
        "colab": {
          "base_uri": "https://localhost:8080/",
          "height": 191
        },
        "id": "XZ9hvwMMUg8P",
        "outputId": "2db772e4-e6bb-49f5-da30-fc9ff3e75a25"
      },
      "source": [
        "#As we do not intend to use any other geographical metadata nor the identity of the user who posted the tweet, \r\n",
        "#the columns of ‘User name’, ‘Latitude’, ‘Longitude’, ‘Country’, ‘Tweet language (ISO 639-1)’ are dropped. \r\n",
        "tweets = tweets.drop (['Latitude', 'Longitude', 'Country', 'Tweet language (ISO 639-1)', 'User Name'], axis = 1 )\r\n",
        "tweets.head()"
      ],
      "execution_count": 12,
      "outputs": [
        {
          "output_type": "execute_result",
          "data": {
            "text/html": [
              "<div>\n",
              "<style scoped>\n",
              "    .dataframe tbody tr th:only-of-type {\n",
              "        vertical-align: middle;\n",
              "    }\n",
              "\n",
              "    .dataframe tbody tr th {\n",
              "        vertical-align: top;\n",
              "    }\n",
              "\n",
              "    .dataframe thead th {\n",
              "        text-align: right;\n",
              "    }\n",
              "</style>\n",
              "<table border=\"1\" class=\"dataframe\">\n",
              "  <thead>\n",
              "    <tr style=\"text-align: right;\">\n",
              "      <th></th>\n",
              "      <th>Tweet Id</th>\n",
              "      <th>Date</th>\n",
              "      <th>Hour</th>\n",
              "      <th>Tweet content</th>\n",
              "    </tr>\n",
              "  </thead>\n",
              "  <tbody>\n",
              "    <tr>\n",
              "      <th>1</th>\n",
              "      <td>743055905214889984</td>\n",
              "      <td>2016-06-15</td>\n",
              "      <td>12:21</td>\n",
              "      <td>#APPLE TRIES to Limit #Google Incursions Onto ...</td>\n",
              "    </tr>\n",
              "    <tr>\n",
              "      <th>2</th>\n",
              "      <td>743055905193857024</td>\n",
              "      <td>2016-06-15</td>\n",
              "      <td>12:21</td>\n",
              "      <td>#APPLE TRIES to Limit #Google Incursions Onto ...</td>\n",
              "    </tr>\n",
              "    <tr>\n",
              "      <th>3</th>\n",
              "      <td>743055497725673472</td>\n",
              "      <td>2016-06-15</td>\n",
              "      <td>12:20</td>\n",
              "      <td>What calls do I sell on $twtr\\n\\n$spy $aapl $g...</td>\n",
              "    </tr>\n",
              "    <tr>\n",
              "      <th>4</th>\n",
              "      <td>743055311909441536</td>\n",
              "      <td>2016-06-15</td>\n",
              "      <td>12:19</td>\n",
              "      <td>Good for $AAPL pay? https://t.co/6EuitFi8Au</td>\n",
              "    </tr>\n",
              "    <tr>\n",
              "      <th>5</th>\n",
              "      <td>743055468315185152</td>\n",
              "      <td>2016-06-15</td>\n",
              "      <td>12:20</td>\n",
              "      <td>Apple may again see a super cycle akin to the ...</td>\n",
              "    </tr>\n",
              "  </tbody>\n",
              "</table>\n",
              "</div>"
            ],
            "text/plain": [
              "             Tweet Id  ...                                      Tweet content\n",
              "1  743055905214889984  ...  #APPLE TRIES to Limit #Google Incursions Onto ...\n",
              "2  743055905193857024  ...  #APPLE TRIES to Limit #Google Incursions Onto ...\n",
              "3  743055497725673472  ...  What calls do I sell on $twtr\\n\\n$spy $aapl $g...\n",
              "4  743055311909441536  ...        Good for $AAPL pay? https://t.co/6EuitFi8Au\n",
              "5  743055468315185152  ...  Apple may again see a super cycle akin to the ...\n",
              "\n",
              "[5 rows x 4 columns]"
            ]
          },
          "metadata": {
            "tags": []
          },
          "execution_count": 12
        }
      ]
    },
    {
      "cell_type": "code",
      "metadata": {
        "id": "Wr5qkSXGTUkb",
        "colab": {
          "base_uri": "https://localhost:8080/",
          "height": 191
        },
        "outputId": "4a0b4f7a-606a-4773-efe6-2554ffbb1c81"
      },
      "source": [
        "#The TweetID is a neutral number, but we will need this later to be able to concat our COMPOUND results with the details of the original tweet.\n",
        "#Let's add the TweetID to the beginning of the 'Tweet content' column\n",
        "tweets[\"toanalyze\"] = tweets[\"Tweet Id\"].astype(str) + ' ' + tweets[\"Tweet content\"]\n",
        "tweets.head()"
      ],
      "execution_count": 13,
      "outputs": [
        {
          "output_type": "execute_result",
          "data": {
            "text/html": [
              "<div>\n",
              "<style scoped>\n",
              "    .dataframe tbody tr th:only-of-type {\n",
              "        vertical-align: middle;\n",
              "    }\n",
              "\n",
              "    .dataframe tbody tr th {\n",
              "        vertical-align: top;\n",
              "    }\n",
              "\n",
              "    .dataframe thead th {\n",
              "        text-align: right;\n",
              "    }\n",
              "</style>\n",
              "<table border=\"1\" class=\"dataframe\">\n",
              "  <thead>\n",
              "    <tr style=\"text-align: right;\">\n",
              "      <th></th>\n",
              "      <th>Tweet Id</th>\n",
              "      <th>Date</th>\n",
              "      <th>Hour</th>\n",
              "      <th>Tweet content</th>\n",
              "      <th>toanalyze</th>\n",
              "    </tr>\n",
              "  </thead>\n",
              "  <tbody>\n",
              "    <tr>\n",
              "      <th>1</th>\n",
              "      <td>743055905214889984</td>\n",
              "      <td>2016-06-15</td>\n",
              "      <td>12:21</td>\n",
              "      <td>#APPLE TRIES to Limit #Google Incursions Onto ...</td>\n",
              "      <td>743055905214889984 #APPLE TRIES to Limit #Goog...</td>\n",
              "    </tr>\n",
              "    <tr>\n",
              "      <th>2</th>\n",
              "      <td>743055905193857024</td>\n",
              "      <td>2016-06-15</td>\n",
              "      <td>12:21</td>\n",
              "      <td>#APPLE TRIES to Limit #Google Incursions Onto ...</td>\n",
              "      <td>743055905193857024 #APPLE TRIES to Limit #Goog...</td>\n",
              "    </tr>\n",
              "    <tr>\n",
              "      <th>3</th>\n",
              "      <td>743055497725673472</td>\n",
              "      <td>2016-06-15</td>\n",
              "      <td>12:20</td>\n",
              "      <td>What calls do I sell on $twtr\\n\\n$spy $aapl $g...</td>\n",
              "      <td>743055497725673472 What calls do I sell on $tw...</td>\n",
              "    </tr>\n",
              "    <tr>\n",
              "      <th>4</th>\n",
              "      <td>743055311909441536</td>\n",
              "      <td>2016-06-15</td>\n",
              "      <td>12:19</td>\n",
              "      <td>Good for $AAPL pay? https://t.co/6EuitFi8Au</td>\n",
              "      <td>743055311909441536 Good for $AAPL pay? https:/...</td>\n",
              "    </tr>\n",
              "    <tr>\n",
              "      <th>5</th>\n",
              "      <td>743055468315185152</td>\n",
              "      <td>2016-06-15</td>\n",
              "      <td>12:20</td>\n",
              "      <td>Apple may again see a super cycle akin to the ...</td>\n",
              "      <td>743055468315185152 Apple may again see a super...</td>\n",
              "    </tr>\n",
              "  </tbody>\n",
              "</table>\n",
              "</div>"
            ],
            "text/plain": [
              "             Tweet Id  ...                                          toanalyze\n",
              "1  743055905214889984  ...  743055905214889984 #APPLE TRIES to Limit #Goog...\n",
              "2  743055905193857024  ...  743055905193857024 #APPLE TRIES to Limit #Goog...\n",
              "3  743055497725673472  ...  743055497725673472 What calls do I sell on $tw...\n",
              "4  743055311909441536  ...  743055311909441536 Good for $AAPL pay? https:/...\n",
              "5  743055468315185152  ...  743055468315185152 Apple may again see a super...\n",
              "\n",
              "[5 rows x 5 columns]"
            ]
          },
          "metadata": {
            "tags": []
          },
          "execution_count": 13
        }
      ]
    },
    {
      "cell_type": "code",
      "metadata": {
        "colab": {
          "base_uri": "https://localhost:8080/"
        },
        "id": "jZVjTodrP3Su",
        "outputId": "f9096842-0290-42cf-c0cd-71fc65a710bc"
      },
      "source": [
        "#Let's check the Compound score of a Tweet Id\r\n",
        "print_sentiment_scores (\"743055468315185152\")"
      ],
      "execution_count": 14,
      "outputs": [
        {
          "output_type": "stream",
          "text": [
            "743055468315185152---------------------- {'neg': 0.0, 'neu': 1.0, 'pos': 0.0, 'compound': 0.0}\n"
          ],
          "name": "stdout"
        }
      ]
    },
    {
      "cell_type": "code",
      "metadata": {
        "colab": {
          "base_uri": "https://localhost:8080/"
        },
        "id": "-lsC5nB1ZCwO",
        "outputId": "f2f65966-f907-4583-c209-e0b75a680228"
      },
      "source": [
        "#Let's see the respective Tweet\r\n",
        "print(tweets.loc[tweets['Tweet Id'] == 743055468315185152]['Tweet content'].values)"
      ],
      "execution_count": 15,
      "outputs": [
        {
          "output_type": "stream",
          "text": [
            "['Apple may again see a super cycle akin to the iPhone 6...but not until late 2017: https://t.co/LLFgiGGNDT $AAPL https://t.co/94zi2gPthg']\n"
          ],
          "name": "stdout"
        }
      ]
    },
    {
      "cell_type": "code",
      "metadata": {
        "colab": {
          "base_uri": "https://localhost:8080/"
        },
        "id": "OZgyL2lsaRJz",
        "outputId": "a835de35-bdcb-4f28-fb49-183943960bb0"
      },
      "source": [
        "#The compound score of the above tweet\r\n",
        "print_sentiment_scores(\"Apple may again see a super cycle akin to the iPhone 6...but not until late 2017: https://t.co/LLFgiGGNDT $AAPL https://t.co/94zi2gPthg'\")"
      ],
      "execution_count": 16,
      "outputs": [
        {
          "output_type": "stream",
          "text": [
            "Apple may again see a super cycle akin to the iPhone 6...but not until late 2017: https://t.co/LLFgiGGNDT $AAPL https://t.co/94zi2gPthg' {'neg': 0.0, 'neu': 0.822, 'pos': 0.178, 'compound': 0.5994}\n"
          ],
          "name": "stdout"
        }
      ]
    },
    {
      "cell_type": "code",
      "metadata": {
        "colab": {
          "base_uri": "https://localhost:8080/"
        },
        "id": "0BPqEts_bMpl",
        "outputId": "5391cb12-5b3d-4b94-ef8b-13bbf4294b19"
      },
      "source": [
        "#The compound score of the Tweet Id + the tweet\r\n",
        "print_sentiment_scores(\"743055468315185152 Apple may again see a super cycle akin to the iPhone 6...but not until late 2017: https://t.co/LLFgiGGNDT $AAPL https://t.co/94zi2gPthg'\")"
      ],
      "execution_count": 17,
      "outputs": [
        {
          "output_type": "stream",
          "text": [
            "743055468315185152 Apple may again see a super cycle akin to the iPhone 6...but not until late 2017: https://t.co/LLFgiGGNDT $AAPL https://t.co/94zi2gPthg' {'neg': 0.0, 'neu': 0.83, 'pos': 0.17, 'compound': 0.5994}\n"
          ],
          "name": "stdout"
        }
      ]
    },
    {
      "cell_type": "code",
      "metadata": {
        "id": "U39yGtVwz7x3",
        "colab": {
          "base_uri": "https://localhost:8080/",
          "height": 1000
        },
        "outputId": "adc297a2-c989-4e45-e973-240411b0821b"
      },
      "source": [
        "applestockdata_URL = 'https://raw.githubusercontent.com/pappg13/AppleTwitterSentiment/main/AAPL.csv'\n",
        "applestockdata = pd.read_csv(applestockdata_URL, sep=';')\n",
        "applestockdata\n",
        "#close-open column?"
      ],
      "execution_count": 18,
      "outputs": [
        {
          "output_type": "execute_result",
          "data": {
            "text/html": [
              "<div>\n",
              "<style scoped>\n",
              "    .dataframe tbody tr th:only-of-type {\n",
              "        vertical-align: middle;\n",
              "    }\n",
              "\n",
              "    .dataframe tbody tr th {\n",
              "        vertical-align: top;\n",
              "    }\n",
              "\n",
              "    .dataframe thead th {\n",
              "        text-align: right;\n",
              "    }\n",
              "</style>\n",
              "<table border=\"1\" class=\"dataframe\">\n",
              "  <thead>\n",
              "    <tr style=\"text-align: right;\">\n",
              "      <th></th>\n",
              "      <th>Date</th>\n",
              "      <th>Open</th>\n",
              "      <th>High</th>\n",
              "      <th>Low</th>\n",
              "      <th>Close</th>\n",
              "      <th>Adj Close</th>\n",
              "      <th>Volume</th>\n",
              "    </tr>\n",
              "  </thead>\n",
              "  <tbody>\n",
              "    <tr>\n",
              "      <th>0</th>\n",
              "      <td>2016-04-04</td>\n",
              "      <td>27.605000</td>\n",
              "      <td>28.047501</td>\n",
              "      <td>27.567499</td>\n",
              "      <td>27.780001</td>\n",
              "      <td>25.921675</td>\n",
              "      <td>149424800</td>\n",
              "    </tr>\n",
              "    <tr>\n",
              "      <th>1</th>\n",
              "      <td>2016-04-05</td>\n",
              "      <td>27.377501</td>\n",
              "      <td>27.682501</td>\n",
              "      <td>27.355000</td>\n",
              "      <td>27.452499</td>\n",
              "      <td>25.616087</td>\n",
              "      <td>106314800</td>\n",
              "    </tr>\n",
              "    <tr>\n",
              "      <th>2</th>\n",
              "      <td>2016-04-06</td>\n",
              "      <td>27.557501</td>\n",
              "      <td>27.745001</td>\n",
              "      <td>27.299999</td>\n",
              "      <td>27.740000</td>\n",
              "      <td>25.884350</td>\n",
              "      <td>105616400</td>\n",
              "    </tr>\n",
              "    <tr>\n",
              "      <th>3</th>\n",
              "      <td>2016-04-07</td>\n",
              "      <td>27.487499</td>\n",
              "      <td>27.605000</td>\n",
              "      <td>27.030001</td>\n",
              "      <td>27.135000</td>\n",
              "      <td>25.319826</td>\n",
              "      <td>127207600</td>\n",
              "    </tr>\n",
              "    <tr>\n",
              "      <th>4</th>\n",
              "      <td>2016-04-08</td>\n",
              "      <td>27.227501</td>\n",
              "      <td>27.442499</td>\n",
              "      <td>27.042500</td>\n",
              "      <td>27.165001</td>\n",
              "      <td>25.347818</td>\n",
              "      <td>94326800</td>\n",
              "    </tr>\n",
              "    <tr>\n",
              "      <th>5</th>\n",
              "      <td>2016-04-11</td>\n",
              "      <td>27.242500</td>\n",
              "      <td>27.652500</td>\n",
              "      <td>27.207500</td>\n",
              "      <td>27.254999</td>\n",
              "      <td>25.431795</td>\n",
              "      <td>117630000</td>\n",
              "    </tr>\n",
              "    <tr>\n",
              "      <th>6</th>\n",
              "      <td>2016-04-12</td>\n",
              "      <td>27.334999</td>\n",
              "      <td>27.625000</td>\n",
              "      <td>27.165001</td>\n",
              "      <td>27.610001</td>\n",
              "      <td>25.763046</td>\n",
              "      <td>108929200</td>\n",
              "    </tr>\n",
              "    <tr>\n",
              "      <th>7</th>\n",
              "      <td>2016-04-13</td>\n",
              "      <td>27.700001</td>\n",
              "      <td>28.084999</td>\n",
              "      <td>27.700001</td>\n",
              "      <td>28.010000</td>\n",
              "      <td>26.136292</td>\n",
              "      <td>133029200</td>\n",
              "    </tr>\n",
              "    <tr>\n",
              "      <th>8</th>\n",
              "      <td>2016-04-14</td>\n",
              "      <td>27.905001</td>\n",
              "      <td>28.097500</td>\n",
              "      <td>27.832500</td>\n",
              "      <td>28.025000</td>\n",
              "      <td>26.150288</td>\n",
              "      <td>101895600</td>\n",
              "    </tr>\n",
              "    <tr>\n",
              "      <th>9</th>\n",
              "      <td>2016-04-15</td>\n",
              "      <td>28.027500</td>\n",
              "      <td>28.075001</td>\n",
              "      <td>27.432501</td>\n",
              "      <td>27.462500</td>\n",
              "      <td>25.625418</td>\n",
              "      <td>187756000</td>\n",
              "    </tr>\n",
              "    <tr>\n",
              "      <th>10</th>\n",
              "      <td>2016-04-18</td>\n",
              "      <td>27.222500</td>\n",
              "      <td>27.237499</td>\n",
              "      <td>26.735001</td>\n",
              "      <td>26.870001</td>\n",
              "      <td>25.072552</td>\n",
              "      <td>243286000</td>\n",
              "    </tr>\n",
              "    <tr>\n",
              "      <th>11</th>\n",
              "      <td>2016-04-19</td>\n",
              "      <td>26.969999</td>\n",
              "      <td>27.000000</td>\n",
              "      <td>26.557501</td>\n",
              "      <td>26.727501</td>\n",
              "      <td>24.939585</td>\n",
              "      <td>129539600</td>\n",
              "    </tr>\n",
              "    <tr>\n",
              "      <th>12</th>\n",
              "      <td>2016-04-20</td>\n",
              "      <td>26.660000</td>\n",
              "      <td>27.022499</td>\n",
              "      <td>26.514999</td>\n",
              "      <td>26.782499</td>\n",
              "      <td>24.990908</td>\n",
              "      <td>122444000</td>\n",
              "    </tr>\n",
              "    <tr>\n",
              "      <th>13</th>\n",
              "      <td>2016-04-21</td>\n",
              "      <td>26.732500</td>\n",
              "      <td>26.732500</td>\n",
              "      <td>26.379999</td>\n",
              "      <td>26.492500</td>\n",
              "      <td>24.720304</td>\n",
              "      <td>126210000</td>\n",
              "    </tr>\n",
              "    <tr>\n",
              "      <th>14</th>\n",
              "      <td>2016-04-22</td>\n",
              "      <td>26.252501</td>\n",
              "      <td>26.620001</td>\n",
              "      <td>26.155001</td>\n",
              "      <td>26.420000</td>\n",
              "      <td>24.652653</td>\n",
              "      <td>134732400</td>\n",
              "    </tr>\n",
              "    <tr>\n",
              "      <th>15</th>\n",
              "      <td>2016-04-25</td>\n",
              "      <td>26.250000</td>\n",
              "      <td>26.412500</td>\n",
              "      <td>26.127501</td>\n",
              "      <td>26.270000</td>\n",
              "      <td>24.512693</td>\n",
              "      <td>112126400</td>\n",
              "    </tr>\n",
              "    <tr>\n",
              "      <th>16</th>\n",
              "      <td>2016-04-26</td>\n",
              "      <td>25.977501</td>\n",
              "      <td>26.325001</td>\n",
              "      <td>25.977501</td>\n",
              "      <td>26.087500</td>\n",
              "      <td>24.342396</td>\n",
              "      <td>224064800</td>\n",
              "    </tr>\n",
              "    <tr>\n",
              "      <th>17</th>\n",
              "      <td>2016-04-27</td>\n",
              "      <td>24.000000</td>\n",
              "      <td>24.677500</td>\n",
              "      <td>23.920000</td>\n",
              "      <td>24.455000</td>\n",
              "      <td>22.819101</td>\n",
              "      <td>458408400</td>\n",
              "    </tr>\n",
              "    <tr>\n",
              "      <th>18</th>\n",
              "      <td>2016-04-28</td>\n",
              "      <td>24.402500</td>\n",
              "      <td>24.469999</td>\n",
              "      <td>23.562500</td>\n",
              "      <td>23.707500</td>\n",
              "      <td>22.121607</td>\n",
              "      <td>328970800</td>\n",
              "    </tr>\n",
              "    <tr>\n",
              "      <th>19</th>\n",
              "      <td>2016-04-29</td>\n",
              "      <td>23.497499</td>\n",
              "      <td>23.680000</td>\n",
              "      <td>23.127501</td>\n",
              "      <td>23.434999</td>\n",
              "      <td>21.867334</td>\n",
              "      <td>274126000</td>\n",
              "    </tr>\n",
              "    <tr>\n",
              "      <th>20</th>\n",
              "      <td>2016-05-02</td>\n",
              "      <td>23.492500</td>\n",
              "      <td>23.520000</td>\n",
              "      <td>23.100000</td>\n",
              "      <td>23.410000</td>\n",
              "      <td>21.844006</td>\n",
              "      <td>192640400</td>\n",
              "    </tr>\n",
              "    <tr>\n",
              "      <th>21</th>\n",
              "      <td>2016-05-03</td>\n",
              "      <td>23.549999</td>\n",
              "      <td>23.934999</td>\n",
              "      <td>23.420000</td>\n",
              "      <td>23.795000</td>\n",
              "      <td>22.203251</td>\n",
              "      <td>227325200</td>\n",
              "    </tr>\n",
              "    <tr>\n",
              "      <th>22</th>\n",
              "      <td>2016-05-04</td>\n",
              "      <td>23.799999</td>\n",
              "      <td>23.975000</td>\n",
              "      <td>23.455000</td>\n",
              "      <td>23.547501</td>\n",
              "      <td>21.972309</td>\n",
              "      <td>164102000</td>\n",
              "    </tr>\n",
              "    <tr>\n",
              "      <th>23</th>\n",
              "      <td>2016-05-05</td>\n",
              "      <td>23.500000</td>\n",
              "      <td>23.517500</td>\n",
              "      <td>23.170000</td>\n",
              "      <td>23.309999</td>\n",
              "      <td>21.883125</td>\n",
              "      <td>143562000</td>\n",
              "    </tr>\n",
              "    <tr>\n",
              "      <th>24</th>\n",
              "      <td>2016-05-06</td>\n",
              "      <td>23.342501</td>\n",
              "      <td>23.362499</td>\n",
              "      <td>22.962500</td>\n",
              "      <td>23.180000</td>\n",
              "      <td>21.761086</td>\n",
              "      <td>174799600</td>\n",
              "    </tr>\n",
              "    <tr>\n",
              "      <th>25</th>\n",
              "      <td>2016-05-09</td>\n",
              "      <td>23.250000</td>\n",
              "      <td>23.442499</td>\n",
              "      <td>23.147499</td>\n",
              "      <td>23.197500</td>\n",
              "      <td>21.777508</td>\n",
              "      <td>131745600</td>\n",
              "    </tr>\n",
              "    <tr>\n",
              "      <th>26</th>\n",
              "      <td>2016-05-10</td>\n",
              "      <td>23.332500</td>\n",
              "      <td>23.392500</td>\n",
              "      <td>23.027500</td>\n",
              "      <td>23.355000</td>\n",
              "      <td>21.925369</td>\n",
              "      <td>134747200</td>\n",
              "    </tr>\n",
              "    <tr>\n",
              "      <th>27</th>\n",
              "      <td>2016-05-11</td>\n",
              "      <td>23.370001</td>\n",
              "      <td>23.392500</td>\n",
              "      <td>23.115000</td>\n",
              "      <td>23.127501</td>\n",
              "      <td>21.711790</td>\n",
              "      <td>114876400</td>\n",
              "    </tr>\n",
              "    <tr>\n",
              "      <th>28</th>\n",
              "      <td>2016-05-12</td>\n",
              "      <td>23.180000</td>\n",
              "      <td>23.195000</td>\n",
              "      <td>22.367500</td>\n",
              "      <td>22.584999</td>\n",
              "      <td>21.202499</td>\n",
              "      <td>305258800</td>\n",
              "    </tr>\n",
              "    <tr>\n",
              "      <th>29</th>\n",
              "      <td>2016-05-13</td>\n",
              "      <td>22.500000</td>\n",
              "      <td>22.917500</td>\n",
              "      <td>22.500000</td>\n",
              "      <td>22.629999</td>\n",
              "      <td>21.244749</td>\n",
              "      <td>177571200</td>\n",
              "    </tr>\n",
              "    <tr>\n",
              "      <th>30</th>\n",
              "      <td>2016-05-16</td>\n",
              "      <td>23.097500</td>\n",
              "      <td>23.597500</td>\n",
              "      <td>22.912500</td>\n",
              "      <td>23.469999</td>\n",
              "      <td>22.033329</td>\n",
              "      <td>245039200</td>\n",
              "    </tr>\n",
              "    <tr>\n",
              "      <th>31</th>\n",
              "      <td>2016-05-17</td>\n",
              "      <td>23.637501</td>\n",
              "      <td>23.674999</td>\n",
              "      <td>23.252501</td>\n",
              "      <td>23.372499</td>\n",
              "      <td>21.941797</td>\n",
              "      <td>187667600</td>\n",
              "    </tr>\n",
              "    <tr>\n",
              "      <th>32</th>\n",
              "      <td>2016-05-18</td>\n",
              "      <td>23.540001</td>\n",
              "      <td>23.802500</td>\n",
              "      <td>23.472500</td>\n",
              "      <td>23.639999</td>\n",
              "      <td>22.192921</td>\n",
              "      <td>168249600</td>\n",
              "    </tr>\n",
              "    <tr>\n",
              "      <th>33</th>\n",
              "      <td>2016-05-19</td>\n",
              "      <td>23.660000</td>\n",
              "      <td>23.660000</td>\n",
              "      <td>23.392500</td>\n",
              "      <td>23.549999</td>\n",
              "      <td>22.108427</td>\n",
              "      <td>121768400</td>\n",
              "    </tr>\n",
              "    <tr>\n",
              "      <th>34</th>\n",
              "      <td>2016-05-20</td>\n",
              "      <td>23.660000</td>\n",
              "      <td>23.857500</td>\n",
              "      <td>23.629999</td>\n",
              "      <td>23.805000</td>\n",
              "      <td>22.347820</td>\n",
              "      <td>128104000</td>\n",
              "    </tr>\n",
              "    <tr>\n",
              "      <th>35</th>\n",
              "      <td>2016-05-23</td>\n",
              "      <td>23.967501</td>\n",
              "      <td>24.297501</td>\n",
              "      <td>23.917500</td>\n",
              "      <td>24.107500</td>\n",
              "      <td>22.631807</td>\n",
              "      <td>152074400</td>\n",
              "    </tr>\n",
              "    <tr>\n",
              "      <th>36</th>\n",
              "      <td>2016-05-24</td>\n",
              "      <td>24.305000</td>\n",
              "      <td>24.522499</td>\n",
              "      <td>24.209999</td>\n",
              "      <td>24.475000</td>\n",
              "      <td>22.976812</td>\n",
              "      <td>140560800</td>\n",
              "    </tr>\n",
              "    <tr>\n",
              "      <th>37</th>\n",
              "      <td>2016-05-25</td>\n",
              "      <td>24.667500</td>\n",
              "      <td>24.934999</td>\n",
              "      <td>24.527500</td>\n",
              "      <td>24.905001</td>\n",
              "      <td>23.380487</td>\n",
              "      <td>152675200</td>\n",
              "    </tr>\n",
              "    <tr>\n",
              "      <th>38</th>\n",
              "      <td>2016-05-26</td>\n",
              "      <td>24.920000</td>\n",
              "      <td>25.182501</td>\n",
              "      <td>24.660000</td>\n",
              "      <td>25.102501</td>\n",
              "      <td>23.565899</td>\n",
              "      <td>225324800</td>\n",
              "    </tr>\n",
              "    <tr>\n",
              "      <th>39</th>\n",
              "      <td>2016-05-27</td>\n",
              "      <td>24.860001</td>\n",
              "      <td>25.117500</td>\n",
              "      <td>24.812500</td>\n",
              "      <td>25.087500</td>\n",
              "      <td>23.551815</td>\n",
              "      <td>145364800</td>\n",
              "    </tr>\n",
              "    <tr>\n",
              "      <th>40</th>\n",
              "      <td>2016-05-31</td>\n",
              "      <td>24.900000</td>\n",
              "      <td>25.100000</td>\n",
              "      <td>24.705000</td>\n",
              "      <td>24.965000</td>\n",
              "      <td>23.436817</td>\n",
              "      <td>169228800</td>\n",
              "    </tr>\n",
              "    <tr>\n",
              "      <th>41</th>\n",
              "      <td>2016-06-01</td>\n",
              "      <td>24.754999</td>\n",
              "      <td>24.885000</td>\n",
              "      <td>24.582500</td>\n",
              "      <td>24.615000</td>\n",
              "      <td>23.108234</td>\n",
              "      <td>116693200</td>\n",
              "    </tr>\n",
              "    <tr>\n",
              "      <th>42</th>\n",
              "      <td>2016-06-02</td>\n",
              "      <td>24.400000</td>\n",
              "      <td>24.459999</td>\n",
              "      <td>24.157499</td>\n",
              "      <td>24.430000</td>\n",
              "      <td>22.934566</td>\n",
              "      <td>160766400</td>\n",
              "    </tr>\n",
              "    <tr>\n",
              "      <th>43</th>\n",
              "      <td>2016-06-03</td>\n",
              "      <td>24.447500</td>\n",
              "      <td>24.567499</td>\n",
              "      <td>24.362499</td>\n",
              "      <td>24.480000</td>\n",
              "      <td>22.981503</td>\n",
              "      <td>114019600</td>\n",
              "    </tr>\n",
              "    <tr>\n",
              "      <th>44</th>\n",
              "      <td>2016-06-06</td>\n",
              "      <td>24.497499</td>\n",
              "      <td>25.472500</td>\n",
              "      <td>24.387501</td>\n",
              "      <td>24.657499</td>\n",
              "      <td>23.148138</td>\n",
              "      <td>93170000</td>\n",
              "    </tr>\n",
              "    <tr>\n",
              "      <th>45</th>\n",
              "      <td>2016-06-07</td>\n",
              "      <td>24.812500</td>\n",
              "      <td>24.967501</td>\n",
              "      <td>24.740000</td>\n",
              "      <td>24.757500</td>\n",
              "      <td>23.242016</td>\n",
              "      <td>89638000</td>\n",
              "    </tr>\n",
              "    <tr>\n",
              "      <th>46</th>\n",
              "      <td>2016-06-08</td>\n",
              "      <td>24.754999</td>\n",
              "      <td>24.889999</td>\n",
              "      <td>24.670000</td>\n",
              "      <td>24.735001</td>\n",
              "      <td>23.220892</td>\n",
              "      <td>83392400</td>\n",
              "    </tr>\n",
              "    <tr>\n",
              "      <th>47</th>\n",
              "      <td>2016-06-09</td>\n",
              "      <td>24.625000</td>\n",
              "      <td>24.997499</td>\n",
              "      <td>24.615000</td>\n",
              "      <td>24.912500</td>\n",
              "      <td>23.387529</td>\n",
              "      <td>106405600</td>\n",
              "    </tr>\n",
              "    <tr>\n",
              "      <th>48</th>\n",
              "      <td>2016-06-10</td>\n",
              "      <td>24.632500</td>\n",
              "      <td>24.837500</td>\n",
              "      <td>24.620001</td>\n",
              "      <td>24.707500</td>\n",
              "      <td>23.195082</td>\n",
              "      <td>126851600</td>\n",
              "    </tr>\n",
              "    <tr>\n",
              "      <th>49</th>\n",
              "      <td>2016-06-13</td>\n",
              "      <td>24.672501</td>\n",
              "      <td>24.780001</td>\n",
              "      <td>24.275000</td>\n",
              "      <td>24.334999</td>\n",
              "      <td>22.845379</td>\n",
              "      <td>152082000</td>\n",
              "    </tr>\n",
              "    <tr>\n",
              "      <th>50</th>\n",
              "      <td>2016-06-14</td>\n",
              "      <td>24.330000</td>\n",
              "      <td>24.620001</td>\n",
              "      <td>24.187500</td>\n",
              "      <td>24.365000</td>\n",
              "      <td>22.873541</td>\n",
              "      <td>127727600</td>\n",
              "    </tr>\n",
              "  </tbody>\n",
              "</table>\n",
              "</div>"
            ],
            "text/plain": [
              "          Date       Open       High  ...      Close  Adj Close     Volume\n",
              "0   2016-04-04  27.605000  28.047501  ...  27.780001  25.921675  149424800\n",
              "1   2016-04-05  27.377501  27.682501  ...  27.452499  25.616087  106314800\n",
              "2   2016-04-06  27.557501  27.745001  ...  27.740000  25.884350  105616400\n",
              "3   2016-04-07  27.487499  27.605000  ...  27.135000  25.319826  127207600\n",
              "4   2016-04-08  27.227501  27.442499  ...  27.165001  25.347818   94326800\n",
              "5   2016-04-11  27.242500  27.652500  ...  27.254999  25.431795  117630000\n",
              "6   2016-04-12  27.334999  27.625000  ...  27.610001  25.763046  108929200\n",
              "7   2016-04-13  27.700001  28.084999  ...  28.010000  26.136292  133029200\n",
              "8   2016-04-14  27.905001  28.097500  ...  28.025000  26.150288  101895600\n",
              "9   2016-04-15  28.027500  28.075001  ...  27.462500  25.625418  187756000\n",
              "10  2016-04-18  27.222500  27.237499  ...  26.870001  25.072552  243286000\n",
              "11  2016-04-19  26.969999  27.000000  ...  26.727501  24.939585  129539600\n",
              "12  2016-04-20  26.660000  27.022499  ...  26.782499  24.990908  122444000\n",
              "13  2016-04-21  26.732500  26.732500  ...  26.492500  24.720304  126210000\n",
              "14  2016-04-22  26.252501  26.620001  ...  26.420000  24.652653  134732400\n",
              "15  2016-04-25  26.250000  26.412500  ...  26.270000  24.512693  112126400\n",
              "16  2016-04-26  25.977501  26.325001  ...  26.087500  24.342396  224064800\n",
              "17  2016-04-27  24.000000  24.677500  ...  24.455000  22.819101  458408400\n",
              "18  2016-04-28  24.402500  24.469999  ...  23.707500  22.121607  328970800\n",
              "19  2016-04-29  23.497499  23.680000  ...  23.434999  21.867334  274126000\n",
              "20  2016-05-02  23.492500  23.520000  ...  23.410000  21.844006  192640400\n",
              "21  2016-05-03  23.549999  23.934999  ...  23.795000  22.203251  227325200\n",
              "22  2016-05-04  23.799999  23.975000  ...  23.547501  21.972309  164102000\n",
              "23  2016-05-05  23.500000  23.517500  ...  23.309999  21.883125  143562000\n",
              "24  2016-05-06  23.342501  23.362499  ...  23.180000  21.761086  174799600\n",
              "25  2016-05-09  23.250000  23.442499  ...  23.197500  21.777508  131745600\n",
              "26  2016-05-10  23.332500  23.392500  ...  23.355000  21.925369  134747200\n",
              "27  2016-05-11  23.370001  23.392500  ...  23.127501  21.711790  114876400\n",
              "28  2016-05-12  23.180000  23.195000  ...  22.584999  21.202499  305258800\n",
              "29  2016-05-13  22.500000  22.917500  ...  22.629999  21.244749  177571200\n",
              "30  2016-05-16  23.097500  23.597500  ...  23.469999  22.033329  245039200\n",
              "31  2016-05-17  23.637501  23.674999  ...  23.372499  21.941797  187667600\n",
              "32  2016-05-18  23.540001  23.802500  ...  23.639999  22.192921  168249600\n",
              "33  2016-05-19  23.660000  23.660000  ...  23.549999  22.108427  121768400\n",
              "34  2016-05-20  23.660000  23.857500  ...  23.805000  22.347820  128104000\n",
              "35  2016-05-23  23.967501  24.297501  ...  24.107500  22.631807  152074400\n",
              "36  2016-05-24  24.305000  24.522499  ...  24.475000  22.976812  140560800\n",
              "37  2016-05-25  24.667500  24.934999  ...  24.905001  23.380487  152675200\n",
              "38  2016-05-26  24.920000  25.182501  ...  25.102501  23.565899  225324800\n",
              "39  2016-05-27  24.860001  25.117500  ...  25.087500  23.551815  145364800\n",
              "40  2016-05-31  24.900000  25.100000  ...  24.965000  23.436817  169228800\n",
              "41  2016-06-01  24.754999  24.885000  ...  24.615000  23.108234  116693200\n",
              "42  2016-06-02  24.400000  24.459999  ...  24.430000  22.934566  160766400\n",
              "43  2016-06-03  24.447500  24.567499  ...  24.480000  22.981503  114019600\n",
              "44  2016-06-06  24.497499  25.472500  ...  24.657499  23.148138   93170000\n",
              "45  2016-06-07  24.812500  24.967501  ...  24.757500  23.242016   89638000\n",
              "46  2016-06-08  24.754999  24.889999  ...  24.735001  23.220892   83392400\n",
              "47  2016-06-09  24.625000  24.997499  ...  24.912500  23.387529  106405600\n",
              "48  2016-06-10  24.632500  24.837500  ...  24.707500  23.195082  126851600\n",
              "49  2016-06-13  24.672501  24.780001  ...  24.334999  22.845379  152082000\n",
              "50  2016-06-14  24.330000  24.620001  ...  24.365000  22.873541  127727600\n",
              "\n",
              "[51 rows x 7 columns]"
            ]
          },
          "metadata": {
            "tags": []
          },
          "execution_count": 18
        }
      ]
    },
    {
      "cell_type": "code",
      "metadata": {
        "id": "iYu452TynJCJ"
      },
      "source": [
        ""
      ],
      "execution_count": 18,
      "outputs": []
    },
    {
      "cell_type": "markdown",
      "metadata": {
        "id": "vt-EkbNinOzo"
      },
      "source": [
        "# Example codes - Rules of VADER"
      ]
    },
    {
      "cell_type": "code",
      "metadata": {
        "colab": {
          "base_uri": "https://localhost:8080/"
        },
        "id": "ldDvZXj8nU8N",
        "outputId": "5ff17d45-e90c-4502-a44a-6b6ae7ea549b"
      },
      "source": [
        "#Rule 1 - Punctuation\r\n",
        "\r\n",
        "print_sentiment_scores(\"I like this pencil!\")\r\n",
        "print_sentiment_scores(\"I like this pencil.\")"
      ],
      "execution_count": 19,
      "outputs": [
        {
          "output_type": "stream",
          "text": [
            "I like this pencil!--------------------- {'neg': 0.0, 'neu': 0.518, 'pos': 0.482, 'compound': 0.4199}\n",
            "I like this pencil.--------------------- {'neg': 0.0, 'neu': 0.545, 'pos': 0.455, 'compound': 0.3612}\n"
          ],
          "name": "stdout"
        }
      ]
    },
    {
      "cell_type": "code",
      "metadata": {
        "colab": {
          "base_uri": "https://localhost:8080/"
        },
        "id": "_2h4sfZxnjfZ",
        "outputId": "06ff7dc7-753e-45b7-ec76-2acb2333ec48"
      },
      "source": [
        "#Rule 2 - Capitalization \r\n",
        "\r\n",
        "print_sentiment_scores(\"I LIKE my new shoes.\")\r\n",
        "print_sentiment_scores(\"I like my new shoes.\")"
      ],
      "execution_count": 20,
      "outputs": [
        {
          "output_type": "stream",
          "text": [
            "I LIKE my new shoes.-------------------- {'neg': 0.0, 'neu': 0.553, 'pos': 0.447, 'compound': 0.4995}\n",
            "I like my new shoes.-------------------- {'neg': 0.0, 'neu': 0.615, 'pos': 0.385, 'compound': 0.3612}\n"
          ],
          "name": "stdout"
        }
      ]
    },
    {
      "cell_type": "code",
      "metadata": {
        "colab": {
          "base_uri": "https://localhost:8080/"
        },
        "id": "kjKmaElnnqkc",
        "outputId": "149cda15-c4a8-4832-ce80-03c81da31157"
      },
      "source": [
        "#Rule 3 - Degree modifiers \r\n",
        " \r\n",
        "print_sentiment_scores(\"The new GRRM book is extremely interesting.\")\r\n",
        "print_sentiment_scores(\"The new GRRM book is interesting.\")"
      ],
      "execution_count": 21,
      "outputs": [
        {
          "output_type": "stream",
          "text": [
            "The new GRRM book is extremely interesting. {'neg': 0.0, 'neu': 0.667, 'pos': 0.333, 'compound': 0.4576}\n",
            "The new GRRM book is interesting.------- {'neg': 0.0, 'neu': 0.649, 'pos': 0.351, 'compound': 0.4019}\n"
          ],
          "name": "stdout"
        }
      ]
    },
    {
      "cell_type": "code",
      "metadata": {
        "colab": {
          "base_uri": "https://localhost:8080/"
        },
        "id": "8ppRTU3foWIc",
        "outputId": "22dcc321-2ec9-4968-c1b1-5e486ef1bab0"
      },
      "source": [
        "#Rule 4 - Contrastive conjunction \r\n",
        "\r\n",
        "print_sentiment_scores(\"The food was delicious.\")\r\n",
        "print_sentiment_scores(\"The food was delicious, but the waitress was really rude.\")"
      ],
      "execution_count": 22,
      "outputs": [
        {
          "output_type": "stream",
          "text": [
            "The food was delicious.----------------- {'neg': 0.0, 'neu': 0.448, 'pos': 0.552, 'compound': 0.5719}\n",
            "The food was delicious, but the waitress was really rude. {'neg': 0.3, 'neu': 0.541, 'pos': 0.159, 'compound': -0.4748}\n"
          ],
          "name": "stdout"
        }
      ]
    },
    {
      "cell_type": "code",
      "metadata": {
        "colab": {
          "base_uri": "https://localhost:8080/"
        },
        "id": "dO6OdnPHo5ap",
        "outputId": "866ab6d2-0503-44b4-d782-d0172437a646"
      },
      "source": [
        "#Rule 5 - Trigrams\r\n",
        "\r\n",
        "print_sentiment_scores(\"The food here is not great.\")\r\n",
        "print_sentiment_scores(\"The food here is not really all that great.\")"
      ],
      "execution_count": 23,
      "outputs": [
        {
          "output_type": "stream",
          "text": [
            "The food here is not great.------------- {'neg': 0.397, 'neu': 0.603, 'pos': 0.0, 'compound': -0.5096}\n",
            "The food here is not really all that great. {'neg': 0.0, 'neu': 0.647, 'pos': 0.353, 'compound': 0.6557}\n"
          ],
          "name": "stdout"
        }
      ]
    },
    {
      "cell_type": "markdown",
      "metadata": {
        "id": "c49vTS80sVdh"
      },
      "source": [
        "#Train-Test Split of the Tweets"
      ]
    },
    {
      "cell_type": "markdown",
      "metadata": {
        "id": "_Yc5RJ4KImZW"
      },
      "source": [
        "Originally, a test-train split was done with the Apple TWeet data, and the sentiment scores were calculated for both dataset. The idea was to see whether the correlation of the Daily closing price and the Sentiment Score is the result of a randomness or not."
      ]
    },
    {
      "cell_type": "code",
      "metadata": {
        "id": "njKJRzrVH8Bk",
        "colab": {
          "base_uri": "https://localhost:8080/"
        },
        "outputId": "27a4ce80-0d64-4a9a-b0d9-72e186c109c1"
      },
      "source": [
        "X = tweets\n",
        "\n",
        "# Set randomness so that we all get the same answer\n",
        "np.random.seed(13)\n",
        "\n",
        "# Split the data into train and test pieces for both X and Y\n",
        "X_train, X_test = train_test_split(X, test_size=0.2)\n",
        "\n",
        "# Let's see how the split looks\n",
        "print( \"Predictor — Training : \", X_train.shape, \"Predictor — Testing : \", X_test.shape)"
      ],
      "execution_count": 24,
      "outputs": [
        {
          "output_type": "stream",
          "text": [
            "Predictor — Training :  (127891, 5) Predictor — Testing :  (31973, 5)\n"
          ],
          "name": "stdout"
        }
      ]
    },
    {
      "cell_type": "code",
      "metadata": {
        "id": "eM2ygGvjIX0N",
        "colab": {
          "base_uri": "https://localhost:8080/"
        },
        "outputId": "a6beaf0d-06c1-4c3c-f61f-3258fdae70e7"
      },
      "source": [
        "X_train.info()"
      ],
      "execution_count": 25,
      "outputs": [
        {
          "output_type": "stream",
          "text": [
            "<class 'pandas.core.frame.DataFrame'>\n",
            "Int64Index: 127891 entries, 54535 to 68432\n",
            "Data columns (total 5 columns):\n",
            " #   Column         Non-Null Count   Dtype \n",
            "---  ------         --------------   ----- \n",
            " 0   Tweet Id       127891 non-null  int64 \n",
            " 1   Date           127891 non-null  object\n",
            " 2   Hour           127891 non-null  object\n",
            " 3   Tweet content  127891 non-null  object\n",
            " 4   toanalyze      127891 non-null  object\n",
            "dtypes: int64(1), object(4)\n",
            "memory usage: 5.9+ MB\n"
          ],
          "name": "stdout"
        }
      ]
    },
    {
      "cell_type": "markdown",
      "metadata": {
        "id": "kvUKh7ljDYvG"
      },
      "source": [
        ""
      ]
    },
    {
      "cell_type": "markdown",
      "metadata": {
        "id": "SA5A6lMmsQFc"
      },
      "source": [
        "##Aggregated Compound Score - Train"
      ]
    },
    {
      "cell_type": "code",
      "metadata": {
        "id": "X2bYYNhnJO4L",
        "colab": {
          "base_uri": "https://localhost:8080/"
        },
        "outputId": "548e9268-b403-4663-dc48-a4bd0f528b06"
      },
      "source": [
        "list_of_tweets = X_train['toanalyze'].to_list()\n",
        "print('List of Tweets: ', list_of_tweets[:10])"
      ],
      "execution_count": 26,
      "outputs": [
        {
          "output_type": "stream",
          "text": [
            "List of Tweets:  ['730872698260180992 Converting Apple Options Into A 4.25% Certificate Of Deposit https://t.co/T3n6viYQWe $AAPL', '718563488470183936 An #Apple laptop keyboard with no keys?. Read more: https://t.co/uvbgQzT8Kp $AAPL', '724648885315092480 RT @Burns277: Are you in Sync with the market? https://t.co/ZtHHCrSAf8 #stocks #finance #investing #trading $AAPL $LNKD $NFLX  $GOOGL $FB', '731117873788129280 $AAPL run baby, called swing trade starting to pay nicely now...She wants 92.50 back!', '730756237235625984 $ES_F Daily and 4 HOUR ... START to turn BULLISH over 2070.50 (june) // $SPX $SPY $AAPL', '723455426050682880 #Apple suffers China setback as authorities block iTunes movie and book sales. Read more: https://t.co/lribtKa57Z $AAPL', '717080128396861443 $AAPL:\\n\\nWhy Apple Was Added to Credit Suisse’s Focus List:\\n\\nhttps://t.co/CFriz3o6CH', '733586920995835904 RT @PeterGhostine: $AAPL ... A move north of $93.77 should trigger a buy signal targeting $98.xx. (See forthcoming write-up).', \"731098553141972992 RT @andreascseh: #Apple should have invest in #GrabTaxi #Asia's Best #fastandfurious #Didi $AAPL https://t.co/nD74iTf48j @luluyilun https:/…\", '735478044547252224 $BRK.B $BRK.A $AAPL Is Berkshire Hathaway still a hold forever stock? https://t.co/6np6dRjjdi']\n"
          ],
          "name": "stdout"
        }
      ]
    },
    {
      "cell_type": "markdown",
      "metadata": {
        "id": "60scVFM7Pf8Z"
      },
      "source": [
        "And now, let's use the VADER method to get the sentiment scores:"
      ]
    },
    {
      "cell_type": "code",
      "metadata": {
        "id": "KbJhJLVVOCvF",
        "colab": {
          "base_uri": "https://localhost:8080/",
          "height": 191
        },
        "outputId": "ee703a4e-1788-4240-aa76-d6b4c9350f4d"
      },
      "source": [
        "scores = []\n",
        "for everytweet in list_of_tweets:\n",
        "    vs = analyser.polarity_scores(everytweet)\n",
        "    scores.append(vs)\n",
        "data = pd.DataFrame(list_of_tweets, columns= ['Tweetcontent'])\n",
        "data2 = pd.DataFrame(scores)\n",
        "final_dataset= pd.concat([data,data2], axis=1)\n",
        "final_dataset.head()"
      ],
      "execution_count": 27,
      "outputs": [
        {
          "output_type": "execute_result",
          "data": {
            "text/html": [
              "<div>\n",
              "<style scoped>\n",
              "    .dataframe tbody tr th:only-of-type {\n",
              "        vertical-align: middle;\n",
              "    }\n",
              "\n",
              "    .dataframe tbody tr th {\n",
              "        vertical-align: top;\n",
              "    }\n",
              "\n",
              "    .dataframe thead th {\n",
              "        text-align: right;\n",
              "    }\n",
              "</style>\n",
              "<table border=\"1\" class=\"dataframe\">\n",
              "  <thead>\n",
              "    <tr style=\"text-align: right;\">\n",
              "      <th></th>\n",
              "      <th>Tweetcontent</th>\n",
              "      <th>neg</th>\n",
              "      <th>neu</th>\n",
              "      <th>pos</th>\n",
              "      <th>compound</th>\n",
              "    </tr>\n",
              "  </thead>\n",
              "  <tbody>\n",
              "    <tr>\n",
              "      <th>0</th>\n",
              "      <td>730872698260180992 Converting Apple Options In...</td>\n",
              "      <td>0.000</td>\n",
              "      <td>1.000</td>\n",
              "      <td>0.000</td>\n",
              "      <td>0.0000</td>\n",
              "    </tr>\n",
              "    <tr>\n",
              "      <th>1</th>\n",
              "      <td>718563488470183936 An #Apple laptop keyboard w...</td>\n",
              "      <td>0.167</td>\n",
              "      <td>0.833</td>\n",
              "      <td>0.000</td>\n",
              "      <td>-0.2960</td>\n",
              "    </tr>\n",
              "    <tr>\n",
              "      <th>2</th>\n",
              "      <td>724648885315092480 RT @Burns277: Are you in Sy...</td>\n",
              "      <td>0.000</td>\n",
              "      <td>1.000</td>\n",
              "      <td>0.000</td>\n",
              "      <td>0.0000</td>\n",
              "    </tr>\n",
              "    <tr>\n",
              "      <th>3</th>\n",
              "      <td>731117873788129280 $AAPL run baby, called swin...</td>\n",
              "      <td>0.080</td>\n",
              "      <td>0.739</td>\n",
              "      <td>0.181</td>\n",
              "      <td>0.4199</td>\n",
              "    </tr>\n",
              "    <tr>\n",
              "      <th>4</th>\n",
              "      <td>730756237235625984 $ES_F Daily and 4 HOUR ... ...</td>\n",
              "      <td>0.000</td>\n",
              "      <td>1.000</td>\n",
              "      <td>0.000</td>\n",
              "      <td>0.0000</td>\n",
              "    </tr>\n",
              "  </tbody>\n",
              "</table>\n",
              "</div>"
            ],
            "text/plain": [
              "                                        Tweetcontent    neg  ...    pos  compound\n",
              "0  730872698260180992 Converting Apple Options In...  0.000  ...  0.000    0.0000\n",
              "1  718563488470183936 An #Apple laptop keyboard w...  0.167  ...  0.000   -0.2960\n",
              "2  724648885315092480 RT @Burns277: Are you in Sy...  0.000  ...  0.000    0.0000\n",
              "3  731117873788129280 $AAPL run baby, called swin...  0.080  ...  0.181    0.4199\n",
              "4  730756237235625984 $ES_F Daily and 4 HOUR ... ...  0.000  ...  0.000    0.0000\n",
              "\n",
              "[5 rows x 5 columns]"
            ]
          },
          "metadata": {
            "tags": []
          },
          "execution_count": 27
        }
      ]
    },
    {
      "cell_type": "code",
      "metadata": {
        "id": "ROk-L3VPQale",
        "colab": {
          "base_uri": "https://localhost:8080/"
        },
        "outputId": "fc3700b7-4ec6-4824-f64c-066a4053392b"
      },
      "source": [
        "final_dataset.info()"
      ],
      "execution_count": 28,
      "outputs": [
        {
          "output_type": "stream",
          "text": [
            "<class 'pandas.core.frame.DataFrame'>\n",
            "RangeIndex: 127891 entries, 0 to 127890\n",
            "Data columns (total 5 columns):\n",
            " #   Column        Non-Null Count   Dtype  \n",
            "---  ------        --------------   -----  \n",
            " 0   Tweetcontent  127891 non-null  object \n",
            " 1   neg           127891 non-null  float64\n",
            " 2   neu           127891 non-null  float64\n",
            " 3   pos           127891 non-null  float64\n",
            " 4   compound      127891 non-null  float64\n",
            "dtypes: float64(4), object(1)\n",
            "memory usage: 4.9+ MB\n"
          ],
          "name": "stdout"
        }
      ]
    },
    {
      "cell_type": "markdown",
      "metadata": {
        "id": "347QBmBnV0iN"
      },
      "source": [
        "Now we will split the Tweet content column to retrieve the Tweet Id"
      ]
    },
    {
      "cell_type": "code",
      "metadata": {
        "id": "7H0YnEGFlESK"
      },
      "source": [
        "final_dataset[['Tweet Id','Tweet content']] = pd.DataFrame(final_dataset.Tweetcontent.str.split(' ',1).tolist(), columns = ['Tweet Id','Tweet content'])"
      ],
      "execution_count": 29,
      "outputs": []
    },
    {
      "cell_type": "code",
      "metadata": {
        "id": "7TC_6lIplm0c",
        "colab": {
          "base_uri": "https://localhost:8080/"
        },
        "outputId": "e15099ab-32a6-4dc6-cc84-2d748aeb8e76"
      },
      "source": [
        "final_dataset.info()"
      ],
      "execution_count": 30,
      "outputs": [
        {
          "output_type": "stream",
          "text": [
            "<class 'pandas.core.frame.DataFrame'>\n",
            "RangeIndex: 127891 entries, 0 to 127890\n",
            "Data columns (total 7 columns):\n",
            " #   Column         Non-Null Count   Dtype  \n",
            "---  ------         --------------   -----  \n",
            " 0   Tweetcontent   127891 non-null  object \n",
            " 1   neg            127891 non-null  float64\n",
            " 2   neu            127891 non-null  float64\n",
            " 3   pos            127891 non-null  float64\n",
            " 4   compound       127891 non-null  float64\n",
            " 5   Tweet Id       127891 non-null  object \n",
            " 6   Tweet content  127891 non-null  object \n",
            "dtypes: float64(4), object(3)\n",
            "memory usage: 6.8+ MB\n"
          ],
          "name": "stdout"
        }
      ]
    },
    {
      "cell_type": "code",
      "metadata": {
        "id": "jwdMUGALm0aJ"
      },
      "source": [
        "final_dataset['Tweet Id'] = final_dataset['Tweet Id'].astype(int)"
      ],
      "execution_count": 31,
      "outputs": []
    },
    {
      "cell_type": "code",
      "metadata": {
        "id": "l4GjWfCkfjfs",
        "colab": {
          "base_uri": "https://localhost:8080/"
        },
        "outputId": "5f0d5c83-69fb-4ecb-c740-8497a7e87546"
      },
      "source": [
        "final_dataset.info()"
      ],
      "execution_count": 32,
      "outputs": [
        {
          "output_type": "stream",
          "text": [
            "<class 'pandas.core.frame.DataFrame'>\n",
            "RangeIndex: 127891 entries, 0 to 127890\n",
            "Data columns (total 7 columns):\n",
            " #   Column         Non-Null Count   Dtype  \n",
            "---  ------         --------------   -----  \n",
            " 0   Tweetcontent   127891 non-null  object \n",
            " 1   neg            127891 non-null  float64\n",
            " 2   neu            127891 non-null  float64\n",
            " 3   pos            127891 non-null  float64\n",
            " 4   compound       127891 non-null  float64\n",
            " 5   Tweet Id       127891 non-null  int64  \n",
            " 6   Tweet content  127891 non-null  object \n",
            "dtypes: float64(4), int64(1), object(2)\n",
            "memory usage: 6.8+ MB\n"
          ],
          "name": "stdout"
        }
      ]
    },
    {
      "cell_type": "code",
      "metadata": {
        "id": "xlYuH1d1dhcY",
        "colab": {
          "base_uri": "https://localhost:8080/"
        },
        "outputId": "15d6620e-25f7-4756-edb8-bfad834dea6c"
      },
      "source": [
        "X_train.info()"
      ],
      "execution_count": 33,
      "outputs": [
        {
          "output_type": "stream",
          "text": [
            "<class 'pandas.core.frame.DataFrame'>\n",
            "Int64Index: 127891 entries, 54535 to 68432\n",
            "Data columns (total 5 columns):\n",
            " #   Column         Non-Null Count   Dtype \n",
            "---  ------         --------------   ----- \n",
            " 0   Tweet Id       127891 non-null  int64 \n",
            " 1   Date           127891 non-null  object\n",
            " 2   Hour           127891 non-null  object\n",
            " 3   Tweet content  127891 non-null  object\n",
            " 4   toanalyze      127891 non-null  object\n",
            "dtypes: int64(1), object(4)\n",
            "memory usage: 5.9+ MB\n"
          ],
          "name": "stdout"
        }
      ]
    },
    {
      "cell_type": "code",
      "metadata": {
        "id": "vV0KgVOhqOzn",
        "colab": {
          "base_uri": "https://localhost:8080/"
        },
        "outputId": "24109ed5-add1-4ba5-ccb0-7f70c9a83226"
      },
      "source": [
        "#Before merging, let's douple-check if there is no duplicate in the Tweed Id column\n",
        "# Select duplicate rows except first occurrence based on all columns\n",
        "duplicateRowsDF = final_dataset[final_dataset.duplicated(['Tweet Id'])]\n",
        "print(\"Duplicate Rows except first occurrence based on all columns are :\")\n",
        "print(duplicateRowsDF)\n",
        "\n",
        "\n",
        "\n",
        "print(\"Duplicate Rows based on a single column are:\", duplicateRowsDF, sep='\\n')"
      ],
      "execution_count": 34,
      "outputs": [
        {
          "output_type": "stream",
          "text": [
            "Duplicate Rows except first occurrence based on all columns are :\n",
            "Empty DataFrame\n",
            "Columns: [Tweetcontent, neg, neu, pos, compound, Tweet Id, Tweet content]\n",
            "Index: []\n",
            "Duplicate Rows based on a single column are:\n",
            "Empty DataFrame\n",
            "Columns: [Tweetcontent, neg, neu, pos, compound, Tweet Id, Tweet content]\n",
            "Index: []\n"
          ],
          "name": "stdout"
        }
      ]
    },
    {
      "cell_type": "code",
      "metadata": {
        "id": "K53IgD6zc2-O",
        "colab": {
          "base_uri": "https://localhost:8080/"
        },
        "outputId": "89c787fb-98ce-404f-e197-5855b5814ad4"
      },
      "source": [
        "mergedata = pd.merge (X_train, final_dataset, on = 'Tweet Id')\n",
        "mergedata.info()"
      ],
      "execution_count": 35,
      "outputs": [
        {
          "output_type": "stream",
          "text": [
            "<class 'pandas.core.frame.DataFrame'>\n",
            "Int64Index: 127891 entries, 0 to 127890\n",
            "Data columns (total 11 columns):\n",
            " #   Column           Non-Null Count   Dtype  \n",
            "---  ------           --------------   -----  \n",
            " 0   Tweet Id         127891 non-null  int64  \n",
            " 1   Date             127891 non-null  object \n",
            " 2   Hour             127891 non-null  object \n",
            " 3   Tweet content_x  127891 non-null  object \n",
            " 4   toanalyze        127891 non-null  object \n",
            " 5   Tweetcontent     127891 non-null  object \n",
            " 6   neg              127891 non-null  float64\n",
            " 7   neu              127891 non-null  float64\n",
            " 8   pos              127891 non-null  float64\n",
            " 9   compound         127891 non-null  float64\n",
            " 10  Tweet content_y  127891 non-null  object \n",
            "dtypes: float64(4), int64(1), object(6)\n",
            "memory usage: 11.7+ MB\n"
          ],
          "name": "stdout"
        }
      ]
    },
    {
      "cell_type": "code",
      "metadata": {
        "id": "OBcGwUitfwSY",
        "colab": {
          "base_uri": "https://localhost:8080/",
          "height": 402
        },
        "outputId": "587c8595-64a3-4717-9073-c288733b517c"
      },
      "source": [
        "mergedata.head()"
      ],
      "execution_count": 36,
      "outputs": [
        {
          "output_type": "execute_result",
          "data": {
            "text/html": [
              "<div>\n",
              "<style scoped>\n",
              "    .dataframe tbody tr th:only-of-type {\n",
              "        vertical-align: middle;\n",
              "    }\n",
              "\n",
              "    .dataframe tbody tr th {\n",
              "        vertical-align: top;\n",
              "    }\n",
              "\n",
              "    .dataframe thead th {\n",
              "        text-align: right;\n",
              "    }\n",
              "</style>\n",
              "<table border=\"1\" class=\"dataframe\">\n",
              "  <thead>\n",
              "    <tr style=\"text-align: right;\">\n",
              "      <th></th>\n",
              "      <th>Tweet Id</th>\n",
              "      <th>Date</th>\n",
              "      <th>Hour</th>\n",
              "      <th>Tweet content_x</th>\n",
              "      <th>toanalyze</th>\n",
              "      <th>Tweetcontent</th>\n",
              "      <th>neg</th>\n",
              "      <th>neu</th>\n",
              "      <th>pos</th>\n",
              "      <th>compound</th>\n",
              "      <th>Tweet content_y</th>\n",
              "    </tr>\n",
              "  </thead>\n",
              "  <tbody>\n",
              "    <tr>\n",
              "      <th>0</th>\n",
              "      <td>730872698260180992</td>\n",
              "      <td>2016-05-12</td>\n",
              "      <td>21:30</td>\n",
              "      <td>Converting Apple Options Into A 4.25% Certific...</td>\n",
              "      <td>730872698260180992 Converting Apple Options In...</td>\n",
              "      <td>730872698260180992 Converting Apple Options In...</td>\n",
              "      <td>0.000</td>\n",
              "      <td>1.000</td>\n",
              "      <td>0.000</td>\n",
              "      <td>0.0000</td>\n",
              "      <td>Converting Apple Options Into A 4.25% Certific...</td>\n",
              "    </tr>\n",
              "    <tr>\n",
              "      <th>1</th>\n",
              "      <td>718563488470183936</td>\n",
              "      <td>2016-04-08</td>\n",
              "      <td>22:17</td>\n",
              "      <td>An #Apple laptop keyboard with no keys?. Read ...</td>\n",
              "      <td>718563488470183936 An #Apple laptop keyboard w...</td>\n",
              "      <td>718563488470183936 An #Apple laptop keyboard w...</td>\n",
              "      <td>0.167</td>\n",
              "      <td>0.833</td>\n",
              "      <td>0.000</td>\n",
              "      <td>-0.2960</td>\n",
              "      <td>An #Apple laptop keyboard with no keys?. Read ...</td>\n",
              "    </tr>\n",
              "    <tr>\n",
              "      <th>2</th>\n",
              "      <td>724648885315092480</td>\n",
              "      <td>2016-04-25</td>\n",
              "      <td>17:18</td>\n",
              "      <td>RT @Burns277: Are you in Sync with the market?...</td>\n",
              "      <td>724648885315092480 RT @Burns277: Are you in Sy...</td>\n",
              "      <td>724648885315092480 RT @Burns277: Are you in Sy...</td>\n",
              "      <td>0.000</td>\n",
              "      <td>1.000</td>\n",
              "      <td>0.000</td>\n",
              "      <td>0.0000</td>\n",
              "      <td>RT @Burns277: Are you in Sync with the market?...</td>\n",
              "    </tr>\n",
              "    <tr>\n",
              "      <th>3</th>\n",
              "      <td>731117873788129280</td>\n",
              "      <td>2016-05-13</td>\n",
              "      <td>13:44</td>\n",
              "      <td>$AAPL run baby, called swing trade starting to...</td>\n",
              "      <td>731117873788129280 $AAPL run baby, called swin...</td>\n",
              "      <td>731117873788129280 $AAPL run baby, called swin...</td>\n",
              "      <td>0.080</td>\n",
              "      <td>0.739</td>\n",
              "      <td>0.181</td>\n",
              "      <td>0.4199</td>\n",
              "      <td>$AAPL run baby, called swing trade starting to...</td>\n",
              "    </tr>\n",
              "    <tr>\n",
              "      <th>4</th>\n",
              "      <td>730756237235625984</td>\n",
              "      <td>2016-05-12</td>\n",
              "      <td>13:47</td>\n",
              "      <td>$ES_F Daily and 4 HOUR ... START to turn BULLI...</td>\n",
              "      <td>730756237235625984 $ES_F Daily and 4 HOUR ... ...</td>\n",
              "      <td>730756237235625984 $ES_F Daily and 4 HOUR ... ...</td>\n",
              "      <td>0.000</td>\n",
              "      <td>1.000</td>\n",
              "      <td>0.000</td>\n",
              "      <td>0.0000</td>\n",
              "      <td>$ES_F Daily and 4 HOUR ... START to turn BULLI...</td>\n",
              "    </tr>\n",
              "  </tbody>\n",
              "</table>\n",
              "</div>"
            ],
            "text/plain": [
              "             Tweet Id  ...                                    Tweet content_y\n",
              "0  730872698260180992  ...  Converting Apple Options Into A 4.25% Certific...\n",
              "1  718563488470183936  ...  An #Apple laptop keyboard with no keys?. Read ...\n",
              "2  724648885315092480  ...  RT @Burns277: Are you in Sync with the market?...\n",
              "3  731117873788129280  ...  $AAPL run baby, called swing trade starting to...\n",
              "4  730756237235625984  ...  $ES_F Daily and 4 HOUR ... START to turn BULLI...\n",
              "\n",
              "[5 rows x 11 columns]"
            ]
          },
          "metadata": {
            "tags": []
          },
          "execution_count": 36
        }
      ]
    },
    {
      "cell_type": "code",
      "metadata": {
        "id": "mXLI2OBQvyWN",
        "colab": {
          "base_uri": "https://localhost:8080/",
          "height": 191
        },
        "outputId": "2114d8e3-01f5-490b-f48f-b115d99bb41c"
      },
      "source": [
        "#Let's create a new dataframe, where we will include only those columns that needed for the further analysis\n",
        "twittersentiment = mergedata[['Tweet Id', 'Date', 'Hour','Tweet content_y', 'compound']].copy()\n",
        "twittersentiment.head()"
      ],
      "execution_count": 37,
      "outputs": [
        {
          "output_type": "execute_result",
          "data": {
            "text/html": [
              "<div>\n",
              "<style scoped>\n",
              "    .dataframe tbody tr th:only-of-type {\n",
              "        vertical-align: middle;\n",
              "    }\n",
              "\n",
              "    .dataframe tbody tr th {\n",
              "        vertical-align: top;\n",
              "    }\n",
              "\n",
              "    .dataframe thead th {\n",
              "        text-align: right;\n",
              "    }\n",
              "</style>\n",
              "<table border=\"1\" class=\"dataframe\">\n",
              "  <thead>\n",
              "    <tr style=\"text-align: right;\">\n",
              "      <th></th>\n",
              "      <th>Tweet Id</th>\n",
              "      <th>Date</th>\n",
              "      <th>Hour</th>\n",
              "      <th>Tweet content_y</th>\n",
              "      <th>compound</th>\n",
              "    </tr>\n",
              "  </thead>\n",
              "  <tbody>\n",
              "    <tr>\n",
              "      <th>0</th>\n",
              "      <td>730872698260180992</td>\n",
              "      <td>2016-05-12</td>\n",
              "      <td>21:30</td>\n",
              "      <td>Converting Apple Options Into A 4.25% Certific...</td>\n",
              "      <td>0.0000</td>\n",
              "    </tr>\n",
              "    <tr>\n",
              "      <th>1</th>\n",
              "      <td>718563488470183936</td>\n",
              "      <td>2016-04-08</td>\n",
              "      <td>22:17</td>\n",
              "      <td>An #Apple laptop keyboard with no keys?. Read ...</td>\n",
              "      <td>-0.2960</td>\n",
              "    </tr>\n",
              "    <tr>\n",
              "      <th>2</th>\n",
              "      <td>724648885315092480</td>\n",
              "      <td>2016-04-25</td>\n",
              "      <td>17:18</td>\n",
              "      <td>RT @Burns277: Are you in Sync with the market?...</td>\n",
              "      <td>0.0000</td>\n",
              "    </tr>\n",
              "    <tr>\n",
              "      <th>3</th>\n",
              "      <td>731117873788129280</td>\n",
              "      <td>2016-05-13</td>\n",
              "      <td>13:44</td>\n",
              "      <td>$AAPL run baby, called swing trade starting to...</td>\n",
              "      <td>0.4199</td>\n",
              "    </tr>\n",
              "    <tr>\n",
              "      <th>4</th>\n",
              "      <td>730756237235625984</td>\n",
              "      <td>2016-05-12</td>\n",
              "      <td>13:47</td>\n",
              "      <td>$ES_F Daily and 4 HOUR ... START to turn BULLI...</td>\n",
              "      <td>0.0000</td>\n",
              "    </tr>\n",
              "  </tbody>\n",
              "</table>\n",
              "</div>"
            ],
            "text/plain": [
              "             Tweet Id  ... compound\n",
              "0  730872698260180992  ...   0.0000\n",
              "1  718563488470183936  ...  -0.2960\n",
              "2  724648885315092480  ...   0.0000\n",
              "3  731117873788129280  ...   0.4199\n",
              "4  730756237235625984  ...   0.0000\n",
              "\n",
              "[5 rows x 5 columns]"
            ]
          },
          "metadata": {
            "tags": []
          },
          "execution_count": 37
        }
      ]
    },
    {
      "cell_type": "code",
      "metadata": {
        "id": "V-QgrJkZ3_Ee"
      },
      "source": [
        "twittersentiment[['Time_Hour','Time_minute']] = pd.DataFrame(twittersentiment.Hour.str.split(':',1).tolist(), columns = ['Time_Hour','Time_minute'])"
      ],
      "execution_count": 38,
      "outputs": []
    },
    {
      "cell_type": "code",
      "metadata": {
        "id": "PcHDwm4h3_ky",
        "colab": {
          "base_uri": "https://localhost:8080/",
          "height": 191
        },
        "outputId": "6af3ba44-0375-4674-d2f2-987d4f6f94a6"
      },
      "source": [
        "twittersentiment.head()"
      ],
      "execution_count": 39,
      "outputs": [
        {
          "output_type": "execute_result",
          "data": {
            "text/html": [
              "<div>\n",
              "<style scoped>\n",
              "    .dataframe tbody tr th:only-of-type {\n",
              "        vertical-align: middle;\n",
              "    }\n",
              "\n",
              "    .dataframe tbody tr th {\n",
              "        vertical-align: top;\n",
              "    }\n",
              "\n",
              "    .dataframe thead th {\n",
              "        text-align: right;\n",
              "    }\n",
              "</style>\n",
              "<table border=\"1\" class=\"dataframe\">\n",
              "  <thead>\n",
              "    <tr style=\"text-align: right;\">\n",
              "      <th></th>\n",
              "      <th>Tweet Id</th>\n",
              "      <th>Date</th>\n",
              "      <th>Hour</th>\n",
              "      <th>Tweet content_y</th>\n",
              "      <th>compound</th>\n",
              "      <th>Time_Hour</th>\n",
              "      <th>Time_minute</th>\n",
              "    </tr>\n",
              "  </thead>\n",
              "  <tbody>\n",
              "    <tr>\n",
              "      <th>0</th>\n",
              "      <td>730872698260180992</td>\n",
              "      <td>2016-05-12</td>\n",
              "      <td>21:30</td>\n",
              "      <td>Converting Apple Options Into A 4.25% Certific...</td>\n",
              "      <td>0.0000</td>\n",
              "      <td>21</td>\n",
              "      <td>30</td>\n",
              "    </tr>\n",
              "    <tr>\n",
              "      <th>1</th>\n",
              "      <td>718563488470183936</td>\n",
              "      <td>2016-04-08</td>\n",
              "      <td>22:17</td>\n",
              "      <td>An #Apple laptop keyboard with no keys?. Read ...</td>\n",
              "      <td>-0.2960</td>\n",
              "      <td>22</td>\n",
              "      <td>17</td>\n",
              "    </tr>\n",
              "    <tr>\n",
              "      <th>2</th>\n",
              "      <td>724648885315092480</td>\n",
              "      <td>2016-04-25</td>\n",
              "      <td>17:18</td>\n",
              "      <td>RT @Burns277: Are you in Sync with the market?...</td>\n",
              "      <td>0.0000</td>\n",
              "      <td>17</td>\n",
              "      <td>18</td>\n",
              "    </tr>\n",
              "    <tr>\n",
              "      <th>3</th>\n",
              "      <td>731117873788129280</td>\n",
              "      <td>2016-05-13</td>\n",
              "      <td>13:44</td>\n",
              "      <td>$AAPL run baby, called swing trade starting to...</td>\n",
              "      <td>0.4199</td>\n",
              "      <td>13</td>\n",
              "      <td>44</td>\n",
              "    </tr>\n",
              "    <tr>\n",
              "      <th>4</th>\n",
              "      <td>730756237235625984</td>\n",
              "      <td>2016-05-12</td>\n",
              "      <td>13:47</td>\n",
              "      <td>$ES_F Daily and 4 HOUR ... START to turn BULLI...</td>\n",
              "      <td>0.0000</td>\n",
              "      <td>13</td>\n",
              "      <td>47</td>\n",
              "    </tr>\n",
              "  </tbody>\n",
              "</table>\n",
              "</div>"
            ],
            "text/plain": [
              "             Tweet Id        Date   Hour  ... compound  Time_Hour Time_minute\n",
              "0  730872698260180992  2016-05-12  21:30  ...   0.0000         21          30\n",
              "1  718563488470183936  2016-04-08  22:17  ...  -0.2960         22          17\n",
              "2  724648885315092480  2016-04-25  17:18  ...   0.0000         17          18\n",
              "3  731117873788129280  2016-05-13  13:44  ...   0.4199         13          44\n",
              "4  730756237235625984  2016-05-12  13:47  ...   0.0000         13          47\n",
              "\n",
              "[5 rows x 7 columns]"
            ]
          },
          "metadata": {
            "tags": []
          },
          "execution_count": 39
        }
      ]
    },
    {
      "cell_type": "markdown",
      "metadata": {
        "id": "pNUok9xB3_41"
      },
      "source": [
        ""
      ]
    },
    {
      "cell_type": "code",
      "metadata": {
        "id": "s9kDyfb1yNfk",
        "colab": {
          "base_uri": "https://localhost:8080/",
          "height": 191
        },
        "outputId": "dfd8eafa-c38a-4e1b-d54b-1baf33a24118"
      },
      "source": [
        "twittersentiment2 = twittersentiment[['Date', 'compound']].copy()\n",
        "twittersentiment2.head()"
      ],
      "execution_count": 40,
      "outputs": [
        {
          "output_type": "execute_result",
          "data": {
            "text/html": [
              "<div>\n",
              "<style scoped>\n",
              "    .dataframe tbody tr th:only-of-type {\n",
              "        vertical-align: middle;\n",
              "    }\n",
              "\n",
              "    .dataframe tbody tr th {\n",
              "        vertical-align: top;\n",
              "    }\n",
              "\n",
              "    .dataframe thead th {\n",
              "        text-align: right;\n",
              "    }\n",
              "</style>\n",
              "<table border=\"1\" class=\"dataframe\">\n",
              "  <thead>\n",
              "    <tr style=\"text-align: right;\">\n",
              "      <th></th>\n",
              "      <th>Date</th>\n",
              "      <th>compound</th>\n",
              "    </tr>\n",
              "  </thead>\n",
              "  <tbody>\n",
              "    <tr>\n",
              "      <th>0</th>\n",
              "      <td>2016-05-12</td>\n",
              "      <td>0.0000</td>\n",
              "    </tr>\n",
              "    <tr>\n",
              "      <th>1</th>\n",
              "      <td>2016-04-08</td>\n",
              "      <td>-0.2960</td>\n",
              "    </tr>\n",
              "    <tr>\n",
              "      <th>2</th>\n",
              "      <td>2016-04-25</td>\n",
              "      <td>0.0000</td>\n",
              "    </tr>\n",
              "    <tr>\n",
              "      <th>3</th>\n",
              "      <td>2016-05-13</td>\n",
              "      <td>0.4199</td>\n",
              "    </tr>\n",
              "    <tr>\n",
              "      <th>4</th>\n",
              "      <td>2016-05-12</td>\n",
              "      <td>0.0000</td>\n",
              "    </tr>\n",
              "  </tbody>\n",
              "</table>\n",
              "</div>"
            ],
            "text/plain": [
              "         Date  compound\n",
              "0  2016-05-12    0.0000\n",
              "1  2016-04-08   -0.2960\n",
              "2  2016-04-25    0.0000\n",
              "3  2016-05-13    0.4199\n",
              "4  2016-05-12    0.0000"
            ]
          },
          "metadata": {
            "tags": []
          },
          "execution_count": 40
        }
      ]
    },
    {
      "cell_type": "code",
      "metadata": {
        "id": "CBb-o2D1wpjb",
        "colab": {
          "base_uri": "https://localhost:8080/",
          "height": 391
        },
        "outputId": "d38c3e66-9afc-47a1-c08a-b06e5257a3de"
      },
      "source": [
        "#lets add up all the compounds for the specific days\n",
        "aggcompound = twittersentiment2.groupby(['Date']).compound.sum().reset_index()\n",
        "aggcompound"
      ],
      "execution_count": 41,
      "outputs": [
        {
          "output_type": "execute_result",
          "data": {
            "text/html": [
              "<div>\n",
              "<style scoped>\n",
              "    .dataframe tbody tr th:only-of-type {\n",
              "        vertical-align: middle;\n",
              "    }\n",
              "\n",
              "    .dataframe tbody tr th {\n",
              "        vertical-align: top;\n",
              "    }\n",
              "\n",
              "    .dataframe thead th {\n",
              "        text-align: right;\n",
              "    }\n",
              "</style>\n",
              "<table border=\"1\" class=\"dataframe\">\n",
              "  <thead>\n",
              "    <tr style=\"text-align: right;\">\n",
              "      <th></th>\n",
              "      <th>Date</th>\n",
              "      <th>compound</th>\n",
              "    </tr>\n",
              "  </thead>\n",
              "  <tbody>\n",
              "    <tr>\n",
              "      <th>0</th>\n",
              "      <td>2016-04-02</td>\n",
              "      <td>32.7210</td>\n",
              "    </tr>\n",
              "    <tr>\n",
              "      <th>1</th>\n",
              "      <td>2016-04-03</td>\n",
              "      <td>59.2519</td>\n",
              "    </tr>\n",
              "    <tr>\n",
              "      <th>2</th>\n",
              "      <td>2016-04-04</td>\n",
              "      <td>184.3389</td>\n",
              "    </tr>\n",
              "    <tr>\n",
              "      <th>3</th>\n",
              "      <td>2016-04-05</td>\n",
              "      <td>85.5317</td>\n",
              "    </tr>\n",
              "    <tr>\n",
              "      <th>4</th>\n",
              "      <td>2016-04-06</td>\n",
              "      <td>148.7332</td>\n",
              "    </tr>\n",
              "    <tr>\n",
              "      <th>...</th>\n",
              "      <td>...</td>\n",
              "      <td>...</td>\n",
              "    </tr>\n",
              "    <tr>\n",
              "      <th>64</th>\n",
              "      <td>2016-06-05</td>\n",
              "      <td>65.4865</td>\n",
              "    </tr>\n",
              "    <tr>\n",
              "      <th>65</th>\n",
              "      <td>2016-06-06</td>\n",
              "      <td>286.7676</td>\n",
              "    </tr>\n",
              "    <tr>\n",
              "      <th>66</th>\n",
              "      <td>2016-06-07</td>\n",
              "      <td>32.9613</td>\n",
              "    </tr>\n",
              "    <tr>\n",
              "      <th>67</th>\n",
              "      <td>2016-06-14</td>\n",
              "      <td>34.1629</td>\n",
              "    </tr>\n",
              "    <tr>\n",
              "      <th>68</th>\n",
              "      <td>2016-06-15</td>\n",
              "      <td>26.0101</td>\n",
              "    </tr>\n",
              "  </tbody>\n",
              "</table>\n",
              "<p>69 rows × 2 columns</p>\n",
              "</div>"
            ],
            "text/plain": [
              "          Date  compound\n",
              "0   2016-04-02   32.7210\n",
              "1   2016-04-03   59.2519\n",
              "2   2016-04-04  184.3389\n",
              "3   2016-04-05   85.5317\n",
              "4   2016-04-06  148.7332\n",
              "..         ...       ...\n",
              "64  2016-06-05   65.4865\n",
              "65  2016-06-06  286.7676\n",
              "66  2016-06-07   32.9613\n",
              "67  2016-06-14   34.1629\n",
              "68  2016-06-15   26.0101\n",
              "\n",
              "[69 rows x 2 columns]"
            ]
          },
          "metadata": {
            "tags": []
          },
          "execution_count": 41
        }
      ]
    },
    {
      "cell_type": "code",
      "metadata": {
        "id": "LCmly91nyg74",
        "colab": {
          "base_uri": "https://localhost:8080/"
        },
        "outputId": "91e023be-d65c-4bc7-9300-96fd9d30929e"
      },
      "source": [
        "aggcompound.info()"
      ],
      "execution_count": 42,
      "outputs": [
        {
          "output_type": "stream",
          "text": [
            "<class 'pandas.core.frame.DataFrame'>\n",
            "RangeIndex: 69 entries, 0 to 68\n",
            "Data columns (total 2 columns):\n",
            " #   Column    Non-Null Count  Dtype  \n",
            "---  ------    --------------  -----  \n",
            " 0   Date      69 non-null     object \n",
            " 1   compound  69 non-null     float64\n",
            "dtypes: float64(1), object(1)\n",
            "memory usage: 1.2+ KB\n"
          ],
          "name": "stdout"
        }
      ]
    },
    {
      "cell_type": "code",
      "metadata": {
        "id": "-6OrqbYlR0Qy",
        "colab": {
          "base_uri": "https://localhost:8080/",
          "height": 277
        },
        "outputId": "f606dbb8-7618-43a5-997f-e9dd08e1c814"
      },
      "source": [
        "aggcompound.describe()"
      ],
      "execution_count": 43,
      "outputs": [
        {
          "output_type": "execute_result",
          "data": {
            "text/html": [
              "<div>\n",
              "<style scoped>\n",
              "    .dataframe tbody tr th:only-of-type {\n",
              "        vertical-align: middle;\n",
              "    }\n",
              "\n",
              "    .dataframe tbody tr th {\n",
              "        vertical-align: top;\n",
              "    }\n",
              "\n",
              "    .dataframe thead th {\n",
              "        text-align: right;\n",
              "    }\n",
              "</style>\n",
              "<table border=\"1\" class=\"dataframe\">\n",
              "  <thead>\n",
              "    <tr style=\"text-align: right;\">\n",
              "      <th></th>\n",
              "      <th>compound</th>\n",
              "    </tr>\n",
              "  </thead>\n",
              "  <tbody>\n",
              "    <tr>\n",
              "      <th>count</th>\n",
              "      <td>69.000000</td>\n",
              "    </tr>\n",
              "    <tr>\n",
              "      <th>mean</th>\n",
              "      <td>136.208729</td>\n",
              "    </tr>\n",
              "    <tr>\n",
              "      <th>std</th>\n",
              "      <td>123.542452</td>\n",
              "    </tr>\n",
              "    <tr>\n",
              "      <th>min</th>\n",
              "      <td>-160.816100</td>\n",
              "    </tr>\n",
              "    <tr>\n",
              "      <th>25%</th>\n",
              "      <td>55.215700</td>\n",
              "    </tr>\n",
              "    <tr>\n",
              "      <th>50%</th>\n",
              "      <td>110.523000</td>\n",
              "    </tr>\n",
              "    <tr>\n",
              "      <th>75%</th>\n",
              "      <td>188.168400</td>\n",
              "    </tr>\n",
              "    <tr>\n",
              "      <th>max</th>\n",
              "      <td>613.914700</td>\n",
              "    </tr>\n",
              "  </tbody>\n",
              "</table>\n",
              "</div>"
            ],
            "text/plain": [
              "         compound\n",
              "count   69.000000\n",
              "mean   136.208729\n",
              "std    123.542452\n",
              "min   -160.816100\n",
              "25%     55.215700\n",
              "50%    110.523000\n",
              "75%    188.168400\n",
              "max    613.914700"
            ]
          },
          "metadata": {
            "tags": []
          },
          "execution_count": 43
        }
      ]
    },
    {
      "cell_type": "code",
      "metadata": {
        "id": "wm5kwhGPy1UI",
        "colab": {
          "base_uri": "https://localhost:8080/",
          "height": 311
        },
        "outputId": "e8beefca-34c1-4fd6-beb0-90e72b3e4184"
      },
      "source": [
        "aggcompound = aggcompound.sort_values('Date', ascending=True)\n",
        "plt.plot(aggcompound['Date'], aggcompound['compound'])\n",
        "plt.rcParams['figure.figsize'] = 14, 10\n",
        "plt.legend()\n",
        "plt.xlabel(\"Date)\")\n",
        "plt.ylabel(\"Sentiment score\")"
      ],
      "execution_count": 44,
      "outputs": [
        {
          "output_type": "stream",
          "text": [
            "No handles with labels found to put in legend.\n"
          ],
          "name": "stderr"
        },
        {
          "output_type": "execute_result",
          "data": {
            "text/plain": [
              "Text(0, 0.5, 'Sentiment score')"
            ]
          },
          "metadata": {
            "tags": []
          },
          "execution_count": 44
        },
        {
          "output_type": "display_data",
          "data": {
            "image/png": "[encoded data removed]",
            "text/plain": [
              "<Figure size 432x288 with 1 Axes>"
            ]
          },
          "metadata": {
            "tags": [],
            "needs_background": "light"
          }
        }
      ]
    },
    {
      "cell_type": "code",
      "metadata": {
        "id": "RlDUcy0y1hWD",
        "colab": {
          "base_uri": "https://localhost:8080/",
          "height": 638
        },
        "outputId": "f72751f1-14f4-49a2-f961-76ec9ec12e0b"
      },
      "source": [
        "applestockdata = applestockdata.sort_values('Date', ascending=True)\n",
        "plt.plot(applestockdata['Date'], applestockdata[['Close', 'Open']])\n",
        "plt.rcParams['figure.figsize'] = 14, 10\n",
        "plt.legend()\n",
        "plt.xlabel(\"Date)\")\n",
        "plt.ylabel(\"Closing stock price\")"
      ],
      "execution_count": 45,
      "outputs": [
        {
          "output_type": "stream",
          "text": [
            "No handles with labels found to put in legend.\n"
          ],
          "name": "stderr"
        },
        {
          "output_type": "execute_result",
          "data": {
            "text/plain": [
              "Text(0, 0.5, 'Closing stock price')"
            ]
          },
          "metadata": {
            "tags": []
          },
          "execution_count": 45
        },
        {
          "output_type": "display_data",
          "data": {
            "image/png": "[encoded data removed]",
            "text/plain": [
              "<Figure size 1008x720 with 1 Axes>"
            ]
          },
          "metadata": {
            "tags": [],
            "needs_background": "light"
          }
        }
      ]
    },
    {
      "cell_type": "code",
      "metadata": {
        "id": "pyxH3drG17sQ",
        "colab": {
          "base_uri": "https://localhost:8080/",
          "height": 191
        },
        "outputId": "026515e3-7654-4ac1-a8e8-4eda1f32108a"
      },
      "source": [
        "#Show everything together:\n",
        "\n",
        "showtogether=pd.merge (applestockdata, aggcompound, on = 'Date')\n",
        "showtogether.head()"
      ],
      "execution_count": 46,
      "outputs": [
        {
          "output_type": "execute_result",
          "data": {
            "text/html": [
              "<div>\n",
              "<style scoped>\n",
              "    .dataframe tbody tr th:only-of-type {\n",
              "        vertical-align: middle;\n",
              "    }\n",
              "\n",
              "    .dataframe tbody tr th {\n",
              "        vertical-align: top;\n",
              "    }\n",
              "\n",
              "    .dataframe thead th {\n",
              "        text-align: right;\n",
              "    }\n",
              "</style>\n",
              "<table border=\"1\" class=\"dataframe\">\n",
              "  <thead>\n",
              "    <tr style=\"text-align: right;\">\n",
              "      <th></th>\n",
              "      <th>Date</th>\n",
              "      <th>Open</th>\n",
              "      <th>High</th>\n",
              "      <th>Low</th>\n",
              "      <th>Close</th>\n",
              "      <th>Adj Close</th>\n",
              "      <th>Volume</th>\n",
              "      <th>compound</th>\n",
              "    </tr>\n",
              "  </thead>\n",
              "  <tbody>\n",
              "    <tr>\n",
              "      <th>0</th>\n",
              "      <td>2016-04-04</td>\n",
              "      <td>27.605000</td>\n",
              "      <td>28.047501</td>\n",
              "      <td>27.567499</td>\n",
              "      <td>27.780001</td>\n",
              "      <td>25.921675</td>\n",
              "      <td>149424800</td>\n",
              "      <td>184.3389</td>\n",
              "    </tr>\n",
              "    <tr>\n",
              "      <th>1</th>\n",
              "      <td>2016-04-05</td>\n",
              "      <td>27.377501</td>\n",
              "      <td>27.682501</td>\n",
              "      <td>27.355000</td>\n",
              "      <td>27.452499</td>\n",
              "      <td>25.616087</td>\n",
              "      <td>106314800</td>\n",
              "      <td>85.5317</td>\n",
              "    </tr>\n",
              "    <tr>\n",
              "      <th>2</th>\n",
              "      <td>2016-04-06</td>\n",
              "      <td>27.557501</td>\n",
              "      <td>27.745001</td>\n",
              "      <td>27.299999</td>\n",
              "      <td>27.740000</td>\n",
              "      <td>25.884350</td>\n",
              "      <td>105616400</td>\n",
              "      <td>148.7332</td>\n",
              "    </tr>\n",
              "    <tr>\n",
              "      <th>3</th>\n",
              "      <td>2016-04-07</td>\n",
              "      <td>27.487499</td>\n",
              "      <td>27.605000</td>\n",
              "      <td>27.030001</td>\n",
              "      <td>27.135000</td>\n",
              "      <td>25.319826</td>\n",
              "      <td>127207600</td>\n",
              "      <td>172.3864</td>\n",
              "    </tr>\n",
              "    <tr>\n",
              "      <th>4</th>\n",
              "      <td>2016-04-08</td>\n",
              "      <td>27.227501</td>\n",
              "      <td>27.442499</td>\n",
              "      <td>27.042500</td>\n",
              "      <td>27.165001</td>\n",
              "      <td>25.347818</td>\n",
              "      <td>94326800</td>\n",
              "      <td>192.1832</td>\n",
              "    </tr>\n",
              "  </tbody>\n",
              "</table>\n",
              "</div>"
            ],
            "text/plain": [
              "         Date       Open       High  ...  Adj Close     Volume  compound\n",
              "0  2016-04-04  27.605000  28.047501  ...  25.921675  149424800  184.3389\n",
              "1  2016-04-05  27.377501  27.682501  ...  25.616087  106314800   85.5317\n",
              "2  2016-04-06  27.557501  27.745001  ...  25.884350  105616400  148.7332\n",
              "3  2016-04-07  27.487499  27.605000  ...  25.319826  127207600  172.3864\n",
              "4  2016-04-08  27.227501  27.442499  ...  25.347818   94326800  192.1832\n",
              "\n",
              "[5 rows x 8 columns]"
            ]
          },
          "metadata": {
            "tags": []
          },
          "execution_count": 46
        }
      ]
    },
    {
      "cell_type": "code",
      "metadata": {
        "id": "mYkO1EKD2R01",
        "colab": {
          "base_uri": "https://localhost:8080/",
          "height": 638
        },
        "outputId": "288d5d6b-58e4-4459-99bd-2292f6a981dc"
      },
      "source": [
        "showtogether = showtogether.sort_values('Date', ascending=True)\n",
        "plt.plot(showtogether['Date'], showtogether[['Close', 'compound']])\n",
        "plt.rcParams['figure.figsize'] = 14, 10\n",
        "plt.legend()\n",
        "plt.xlabel(\"Date)\")\n",
        "plt.ylabel(\"Closing stock price\")"
      ],
      "execution_count": 47,
      "outputs": [
        {
          "output_type": "stream",
          "text": [
            "No handles with labels found to put in legend.\n"
          ],
          "name": "stderr"
        },
        {
          "output_type": "execute_result",
          "data": {
            "text/plain": [
              "Text(0, 0.5, 'Closing stock price')"
            ]
          },
          "metadata": {
            "tags": []
          },
          "execution_count": 47
        },
        {
          "output_type": "display_data",
          "data": {
            "image/png": "[encoded data removed]",
            "text/plain": [
              "<Figure size 1008x720 with 1 Axes>"
            ]
          },
          "metadata": {
            "tags": [],
            "needs_background": "light"
          }
        }
      ]
    },
    {
      "cell_type": "code",
      "metadata": {
        "id": "lNVN8cG425ne",
        "colab": {
          "base_uri": "https://localhost:8080/",
          "height": 626
        },
        "outputId": "f321374a-e9e7-4973-ea45-7ff992363cef"
      },
      "source": [
        "import numpy as np\n",
        "import matplotlib.pyplot as plt\n",
        "\n",
        "# create figure and axis objects with subplots()\n",
        "fig,ax = plt.subplots()\n",
        "# make a plot\n",
        "ax.plot(showtogether.Date, showtogether.Close, color=\"red\", marker=\"o\")\n",
        "# set x-axis label\n",
        "ax.set_xlabel(\"Date\",fontsize=14)\n",
        "# set y-axis label\n",
        "ax.set_ylabel(\"Closing price\",color=\"red\",fontsize=14)\n",
        "\n",
        "# twin object for two different y-axis on the sample plot\n",
        "ax2=ax.twinx()\n",
        "# make a plot with different y-axis using second axis object\n",
        "ax2.plot(showtogether.Date, showtogether.compound, color=\"blue\",marker=\"o\")\n",
        "ax2.set_ylabel(\"Sentiment score\",color=\"blue\",fontsize=14)"
      ],
      "execution_count": 48,
      "outputs": [
        {
          "output_type": "execute_result",
          "data": {
            "text/plain": [
              "Text(0, 0.5, 'Sentiment score')"
            ]
          },
          "metadata": {
            "tags": []
          },
          "execution_count": 48
        },
        {
          "output_type": "display_data",
          "data": {
            "image/png": "[encoded data removed]",
            "text/plain": [
              "<Figure size 1008x720 with 2 Axes>"
            ]
          },
          "metadata": {
            "tags": [],
            "needs_background": "light"
          }
        }
      ]
    },
    {
      "cell_type": "code",
      "metadata": {
        "id": "NlgM7poLq8FI",
        "colab": {
          "base_uri": "https://localhost:8080/"
        },
        "outputId": "c77d1bb3-dcfa-4966-b5b5-29a4360404a7"
      },
      "source": [
        "twittersentiment.to_csv"
      ],
      "execution_count": 49,
      "outputs": [
        {
          "output_type": "execute_result",
          "data": {
            "text/plain": [
              "<bound method NDFrame.to_csv of                   Tweet Id        Date   Hour  ... compound  Time_Hour Time_minute\n",
              "0       730872698260180992  2016-05-12  21:30  ...   0.0000         21          30\n",
              "1       718563488470183936  2016-04-08  22:17  ...  -0.2960         22          17\n",
              "2       724648885315092480  2016-04-25  17:18  ...   0.0000         17          18\n",
              "3       731117873788129280  2016-05-13  13:44  ...   0.4199         13          44\n",
              "4       730756237235625984  2016-05-12  13:47  ...   0.0000         13          47\n",
              "...                    ...         ...    ...  ...      ...        ...         ...\n",
              "127886  720008598642819074  2016-04-12  22:00  ...   0.4995         22          00\n",
              "127887  730392506098024448  2016-05-11  13:41  ...   0.3818         13          41\n",
              "127888  727506685972078593  2016-05-03  14:34  ...   0.0000         14          34\n",
              "127889  735049665629069312  2016-05-24  10:07  ...   0.0000         10          07\n",
              "127890  729415230694940672  2016-05-08  20:58  ...   0.2960         20          58\n",
              "\n",
              "[127891 rows x 7 columns]>"
            ]
          },
          "metadata": {
            "tags": []
          },
          "execution_count": 49
        }
      ]
    },
    {
      "cell_type": "code",
      "metadata": {
        "id": "QejUT_Nhr3mo",
        "colab": {
          "base_uri": "https://localhost:8080/",
          "height": 33
        },
        "outputId": "968a1cd7-561a-43e6-9855-2c7835cc6c02"
      },
      "source": [
        "import base64\n",
        "import pandas as pd\n",
        "from IPython.display import HTML\n",
        "\n",
        "def create_download_link2( df, title = \"Download CSV file\", filename = \"data.csv\"):\n",
        "    csv = df.to_csv()\n",
        "    b64 = base64.b64encode(csv.encode())\n",
        "    payload = b64.decode()\n",
        "    html = '<a download=\"{filename}\" href=\"data:text/csv;base64,{payload}\" target=\"_blank\">{title}</a>'\n",
        "    html = html.format(payload=payload,title=title,filename=filename)\n",
        "    return HTML(html)\n",
        "\n",
        "#df = twittersentiment.DataFrame(data = [[1,2],[3,4]], columns=['Col 1', 'Col 2'])\n",
        "create_download_link2(showtogether)"
      ],
      "execution_count": 50,
      "outputs": [
        {
          "output_type": "execute_result",
          "data": {
            "text/html": [
              "<a download=\"data.csv\" href=\"data:text/csv;base64,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\" target=\"_blank\">Download CSV file</a>"
            ],
            "text/plain": [
              "<IPython.core.display.HTML object>"
            ]
          },
          "metadata": {
            "tags": []
          },
          "execution_count": 50
        }
      ]
    },
    {
      "cell_type": "markdown",
      "metadata": {
        "id": "oDSTJXtcr6Tt"
      },
      "source": [
        "##Aggregated Compound Score - Test"
      ]
    },
    {
      "cell_type": "markdown",
      "metadata": {
        "id": "Tcg6kqUbhDMz"
      },
      "source": [
        "Let's do the same method with our Test dataset."
      ]
    },
    {
      "cell_type": "code",
      "metadata": {
        "colab": {
          "base_uri": "https://localhost:8080/",
          "height": 427
        },
        "id": "Wr-U2dI8etsQ",
        "outputId": "57c7e0ec-8e75-4875-ea40-184765b89ecd"
      },
      "source": [
        "#Let's do the same method with the Test data\n",
        "list_of_TEST_tweets = X_test['toanalyze'].to_list()\n",
        "print('List of Test Tweets: ', list_of_TEST_tweets[:10])\n",
        "\n",
        "scoresTest = []\n",
        "for everytweet in list_of_TEST_tweets:\n",
        "    vs = analyser.polarity_scores(everytweet)\n",
        "    scoresTest.append(vs)\n",
        "Test_data = pd.DataFrame(list_of_TEST_tweets, columns= ['Tweetcontent'])\n",
        "Test_data2 = pd.DataFrame(scoresTest)\n",
        "Test_dataset= pd.concat([Test_data,Test_data2], axis=1)\n",
        "Test_dataset.head()\n",
        "\n",
        "Test_dataset[['Tweet Id','Tweet content']] = pd.DataFrame(Test_dataset.Tweetcontent.str.split(' ',1).tolist(), columns = ['Tweet Id','Tweet content'])\n",
        "\n",
        "Test_dataset['Tweet Id'] = Test_dataset['Tweet Id'].astype(int)\n",
        "\n",
        "Testmerge = pd.merge (X_test, Test_dataset, on = 'Tweet Id')\n",
        "\n",
        "\n",
        "twittersentiment_test = Testmerge[['Tweet Id', 'Date', 'Hour','Tweet content_y', 'compound']].copy()\n",
        "\n",
        "twittersentiment_test2 = twittersentiment_test[['Date', 'compound']].copy()\n",
        "\n",
        "aggcompound_test = twittersentiment_test2.groupby(['Date']).compound.sum().reset_index()\n",
        "aggcompound_test"
      ],
      "execution_count": 51,
      "outputs": [
        {
          "output_type": "stream",
          "text": [
            "List of Test Tweets:  [\"737284895165190144 #Apple Store's worst feature? Customers, says ex-employee     - CNET. Read more: https://t.co/eaNHnslO9W $AAPL\", '725061413027205120 New stock traders should read this article https://t.co/WJFaIw7OGS $IWM #finance #stocks $AAPL', \"730004470017314817 Apple: It's Time To Fix The Mac App Store https://t.co/UfSI2wF2z0 $ADBE $ADSK $MSFT $AAPL\", '725099398103896064 #Apple iPhone sales drop, results miss expectations. Read more: https://t.co/nRCqOTnB92 $AAPL', '730397084340387840 Apple Stock Price: 93.04 #apple $AAPL', '729649817161498624 RT @ValaAfshar: Apple has $233 billion in cash. It could buy all\\n\\n—@NFL teams\\n—@NBA teams\\n—@MLB teams\\n—@NHL teams\\n\\n...and still have $80 bi…', '730121594731790336 #Apple Designed the iPad Smart Cover You Really Want. Read more: https://t.co/9hV7nNiHiI $AAPL', '727525013843234817 Didn’t like @tim_cook interview last night, but $AAPL over 2 Day highs is a technical long for a bounce. Below those 2X lows is a short IMHO', \"735466152118390784 RT @VolumePrintcess: Today's #HOT  #Whisper $EXPR $USO $GDX $SPY $FCX $AAPL  https://t.co/nKt3o553Yt\", '725179950651858946 RT @ValaAfshar: Apple has $233 billion in cash. It could buy:\\n\\nUber\\nTesla \\nTwitter \\nAirbnb\\nNetflix\\nYahoo\\n\\n...and still have $18 billion lef…']\n"
          ],
          "name": "stdout"
        },
        {
          "output_type": "execute_result",
          "data": {
            "text/html": [
              "<div>\n",
              "<style scoped>\n",
              "    .dataframe tbody tr th:only-of-type {\n",
              "        vertical-align: middle;\n",
              "    }\n",
              "\n",
              "    .dataframe tbody tr th {\n",
              "        vertical-align: top;\n",
              "    }\n",
              "\n",
              "    .dataframe thead th {\n",
              "        text-align: right;\n",
              "    }\n",
              "</style>\n",
              "<table border=\"1\" class=\"dataframe\">\n",
              "  <thead>\n",
              "    <tr style=\"text-align: right;\">\n",
              "      <th></th>\n",
              "      <th>Date</th>\n",
              "      <th>compound</th>\n",
              "    </tr>\n",
              "  </thead>\n",
              "  <tbody>\n",
              "    <tr>\n",
              "      <th>0</th>\n",
              "      <td>2016-04-02</td>\n",
              "      <td>6.0752</td>\n",
              "    </tr>\n",
              "    <tr>\n",
              "      <th>1</th>\n",
              "      <td>2016-04-03</td>\n",
              "      <td>11.2486</td>\n",
              "    </tr>\n",
              "    <tr>\n",
              "      <th>2</th>\n",
              "      <td>2016-04-04</td>\n",
              "      <td>40.2419</td>\n",
              "    </tr>\n",
              "    <tr>\n",
              "      <th>3</th>\n",
              "      <td>2016-04-05</td>\n",
              "      <td>25.2867</td>\n",
              "    </tr>\n",
              "    <tr>\n",
              "      <th>4</th>\n",
              "      <td>2016-04-06</td>\n",
              "      <td>29.2746</td>\n",
              "    </tr>\n",
              "    <tr>\n",
              "      <th>...</th>\n",
              "      <td>...</td>\n",
              "      <td>...</td>\n",
              "    </tr>\n",
              "    <tr>\n",
              "      <th>64</th>\n",
              "      <td>2016-06-05</td>\n",
              "      <td>13.9700</td>\n",
              "    </tr>\n",
              "    <tr>\n",
              "      <th>65</th>\n",
              "      <td>2016-06-06</td>\n",
              "      <td>73.3013</td>\n",
              "    </tr>\n",
              "    <tr>\n",
              "      <th>66</th>\n",
              "      <td>2016-06-07</td>\n",
              "      <td>9.4575</td>\n",
              "    </tr>\n",
              "    <tr>\n",
              "      <th>67</th>\n",
              "      <td>2016-06-14</td>\n",
              "      <td>5.4722</td>\n",
              "    </tr>\n",
              "    <tr>\n",
              "      <th>68</th>\n",
              "      <td>2016-06-15</td>\n",
              "      <td>11.2442</td>\n",
              "    </tr>\n",
              "  </tbody>\n",
              "</table>\n",
              "<p>69 rows × 2 columns</p>\n",
              "</div>"
            ],
            "text/plain": [
              "          Date  compound\n",
              "0   2016-04-02    6.0752\n",
              "1   2016-04-03   11.2486\n",
              "2   2016-04-04   40.2419\n",
              "3   2016-04-05   25.2867\n",
              "4   2016-04-06   29.2746\n",
              "..         ...       ...\n",
              "64  2016-06-05   13.9700\n",
              "65  2016-06-06   73.3013\n",
              "66  2016-06-07    9.4575\n",
              "67  2016-06-14    5.4722\n",
              "68  2016-06-15   11.2442\n",
              "\n",
              "[69 rows x 2 columns]"
            ]
          },
          "metadata": {
            "tags": []
          },
          "execution_count": 51
        }
      ]
    },
    {
      "cell_type": "code",
      "metadata": {
        "colab": {
          "base_uri": "https://localhost:8080/",
          "height": 638
        },
        "id": "b-mnDexUgbDy",
        "outputId": "72b3fb1b-62b0-45b6-e239-0faa8d1f664c"
      },
      "source": [
        "aggcompound_test = aggcompound_test.sort_values('Date', ascending=True)\n",
        "plt.plot(aggcompound_test['Date'], aggcompound_test['compound'])\n",
        "plt.rcParams['figure.figsize'] = 14, 10\n",
        "plt.legend()\n",
        "plt.xlabel(\"Date)\")\n",
        "plt.ylabel(\"Sentiment score\")"
      ],
      "execution_count": 52,
      "outputs": [
        {
          "output_type": "stream",
          "text": [
            "No handles with labels found to put in legend.\n"
          ],
          "name": "stderr"
        },
        {
          "output_type": "execute_result",
          "data": {
            "text/plain": [
              "Text(0, 0.5, 'Sentiment score')"
            ]
          },
          "metadata": {
            "tags": []
          },
          "execution_count": 52
        },
        {
          "output_type": "display_data",
          "data": {
            "image/png": "[encoded data removed]",
            "text/plain": [
              "<Figure size 1008x720 with 1 Axes>"
            ]
          },
          "metadata": {
            "tags": [],
            "needs_background": "light"
          }
        }
      ]
    },
    {
      "cell_type": "code",
      "metadata": {
        "id": "B35unX-0gtmP"
      },
      "source": [
        "showtogether_test=pd.merge (applestockdata, aggcompound_test, on = 'Date')"
      ],
      "execution_count": 53,
      "outputs": []
    },
    {
      "cell_type": "code",
      "metadata": {
        "colab": {
          "base_uri": "https://localhost:8080/",
          "height": 626
        },
        "id": "kM23hZ0Bg3PS",
        "outputId": "a670cab7-917f-4a5f-c781-fb992a57f162"
      },
      "source": [
        "# create figure and axis objects with subplots()\n",
        "fig,ax = plt.subplots()\n",
        "# make a plot\n",
        "ax.plot(showtogether_test.Date, showtogether_test.Close, color=\"red\", marker=\"o\")\n",
        "# set x-axis label\n",
        "ax.set_xlabel(\"Date\",fontsize=14)\n",
        "# set y-axis label\n",
        "ax.set_ylabel(\"Closing price\",color=\"red\",fontsize=14)\n",
        "\n",
        "# twin object for two different y-axis on the sample plot\n",
        "ax2=ax.twinx()\n",
        "# make a plot with different y-axis using second axis object\n",
        "ax2.plot(showtogether_test.Date, showtogether_test.compound, color=\"blue\",marker=\"o\")\n",
        "ax2.set_ylabel(\"Sentiment score\",color=\"blue\",fontsize=14)"
      ],
      "execution_count": 54,
      "outputs": [
        {
          "output_type": "execute_result",
          "data": {
            "text/plain": [
              "Text(0, 0.5, 'Sentiment score')"
            ]
          },
          "metadata": {
            "tags": []
          },
          "execution_count": 54
        },
        {
          "output_type": "display_data",
          "data": {
            "image/png": "[encoded data removed]",
            "text/plain": [
              "<Figure size 1008x720 with 2 Axes>"
            ]
          },
          "metadata": {
            "tags": [],
            "needs_background": "light"
          }
        }
      ]
    },
    {
      "cell_type": "code",
      "metadata": {
        "colab": {
          "base_uri": "https://localhost:8080/",
          "height": 33
        },
        "id": "eYK3UVE9hLOl",
        "outputId": "af37a06a-2723-453d-c0d2-c7bf63c48892"
      },
      "source": [
        "create_download_link2(showtogether_test)"
      ],
      "execution_count": 55,
      "outputs": [
        {
          "output_type": "execute_result",
          "data": {
            "text/html": [
              "<a download=\"data.csv\" href=\"data:text/csv;base64,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\" target=\"_blank\">Download CSV file</a>"
            ],
            "text/plain": [
              "<IPython.core.display.HTML object>"
            ]
          },
          "metadata": {
            "tags": []
          },
          "execution_count": 55
        }
      ]
    },
    {
      "cell_type": "markdown",
      "metadata": {
        "id": "C6eIjb8Arw6W"
      },
      "source": [
        "##Average Copmound Score - Train"
      ]
    },
    {
      "cell_type": "code",
      "metadata": {
        "colab": {
          "base_uri": "https://localhost:8080/",
          "height": 626
        },
        "id": "ZLlZ5Hr-pcR0",
        "outputId": "630e2404-20fd-4a1b-d983-417932771bba"
      },
      "source": [
        "avgcompound=twittersentiment2.groupby(['Date']).compound.mean().reset_index()\n",
        "\n",
        "avgcompound = avgcompound.sort_values('Date', ascending=True)\n",
        "\n",
        "showtogether_avg_train=pd.merge (applestockdata, avgcompound, on = 'Date')\n",
        "\n",
        "fig,ax = plt.subplots()\n",
        "# make a plot\n",
        "ax.plot(showtogether_avg_train.Date, showtogether_avg_train.Close, color=\"red\", marker=\"o\")\n",
        "# set x-axis label\n",
        "ax.set_xlabel(\"Date\",fontsize=14)\n",
        "# set y-axis label\n",
        "ax.set_ylabel(\"Closing price\",color=\"red\",fontsize=14)\n",
        "\n",
        "# twin object for two different y-axis on the sample plot\n",
        "ax2=ax.twinx()\n",
        "# make a plot with different y-axis using second axis object\n",
        "ax2.plot(showtogether_avg_train.Date, showtogether_avg_train.compound, color=\"blue\",marker=\"o\")\n",
        "ax2.set_ylabel(\"Sentiment score\",color=\"blue\",fontsize=14)"
      ],
      "execution_count": 56,
      "outputs": [
        {
          "output_type": "execute_result",
          "data": {
            "text/plain": [
              "Text(0, 0.5, 'Sentiment score')"
            ]
          },
          "metadata": {
            "tags": []
          },
          "execution_count": 56
        },
        {
          "output_type": "display_data",
          "data": {
            "image/png": "[encoded data removed]",
            "text/plain": [
              "<Figure size 1008x720 with 2 Axes>"
            ]
          },
          "metadata": {
            "tags": [],
            "needs_background": "light"
          }
        }
      ]
    },
    {
      "cell_type": "code",
      "metadata": {
        "colab": {
          "base_uri": "https://localhost:8080/",
          "height": 33
        },
        "id": "h0DJ4cIyqlHq",
        "outputId": "198f92c8-36e0-4ad5-f7d8-2e4a72780163"
      },
      "source": [
        "create_download_link2(showtogether_avg_train)"
      ],
      "execution_count": 57,
      "outputs": [
        {
          "output_type": "execute_result",
          "data": {
            "text/html": [
              "<a download=\"data.csv\" href=\"data:text/csv;base64,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\" target=\"_blank\">Download CSV file</a>"
            ],
            "text/plain": [
              "<IPython.core.display.HTML object>"
            ]
          },
          "metadata": {
            "tags": []
          },
          "execution_count": 57
        }
      ]
    },
    {
      "cell_type": "markdown",
      "metadata": {
        "id": "JFPFw9LjYvmO"
      },
      "source": [
        "After the correlations of the Train and Test datasets of the aggregated score were calculated with the Daily closing price were close (Test vs Closing price: 0.403450; Train vs Closing price: 0.420407), our project team decided that the Whole dataset should be analysed, to get a more closest understanding of the reality. Instead, an other split was done later, by checking the correlation for a longer and a shorter time period."
      ]
    },
    {
      "cell_type": "markdown",
      "metadata": {
        "id": "DaTtds5esqNf"
      },
      "source": [
        "#Every Tweet Shown Together"
      ]
    },
    {
      "cell_type": "markdown",
      "metadata": {
        "id": "dbedDMajrRPp"
      },
      "source": [
        "Now we will create a plot with all the data we have, meaning that every tweet will be analysed at once. It also means that we will not care here about Train and Test split. However, when we plot the charts, we will see the correlation of a certain time interval compares to the correlation of the complementary interval."
      ]
    },
    {
      "cell_type": "code",
      "metadata": {
        "id": "t-Tsimdykbxk"
      },
      "source": [
        "list_of_tweets_all = tweets['toanalyze'].to_list()"
      ],
      "execution_count": 58,
      "outputs": []
    },
    {
      "cell_type": "code",
      "metadata": {
        "id": "uwoZhcZqke8Q"
      },
      "source": [
        "scores_all = []\r\n",
        "for everytweet in list_of_tweets_all:\r\n",
        "    vs = analyser.polarity_scores(everytweet)\r\n",
        "    scores_all.append(vs)\r\n",
        "\r\n",
        "data_all = pd.DataFrame(list_of_tweets_all, columns= ['Tweetcontent'])\r\n",
        "data2_all = pd.DataFrame(scores_all)\r\n",
        "\r\n",
        "every_tweet_score= pd.concat([data_all,data2_all], axis=1)"
      ],
      "execution_count": 59,
      "outputs": []
    },
    {
      "cell_type": "code",
      "metadata": {
        "id": "Ia_r1tRCkxAX",
        "colab": {
          "base_uri": "https://localhost:8080/",
          "height": 391
        },
        "outputId": "04d2da06-4006-4422-b5a2-26cedf859c23"
      },
      "source": [
        "every_tweet_score"
      ],
      "execution_count": 60,
      "outputs": [
        {
          "output_type": "execute_result",
          "data": {
            "text/html": [
              "<div>\n",
              "<style scoped>\n",
              "    .dataframe tbody tr th:only-of-type {\n",
              "        vertical-align: middle;\n",
              "    }\n",
              "\n",
              "    .dataframe tbody tr th {\n",
              "        vertical-align: top;\n",
              "    }\n",
              "\n",
              "    .dataframe thead th {\n",
              "        text-align: right;\n",
              "    }\n",
              "</style>\n",
              "<table border=\"1\" class=\"dataframe\">\n",
              "  <thead>\n",
              "    <tr style=\"text-align: right;\">\n",
              "      <th></th>\n",
              "      <th>Tweetcontent</th>\n",
              "      <th>neg</th>\n",
              "      <th>neu</th>\n",
              "      <th>pos</th>\n",
              "      <th>compound</th>\n",
              "    </tr>\n",
              "  </thead>\n",
              "  <tbody>\n",
              "    <tr>\n",
              "      <th>0</th>\n",
              "      <td>743055905214889984 #APPLE TRIES to Limit #Goog...</td>\n",
              "      <td>0.000</td>\n",
              "      <td>1.000</td>\n",
              "      <td>0.000</td>\n",
              "      <td>0.0000</td>\n",
              "    </tr>\n",
              "    <tr>\n",
              "      <th>1</th>\n",
              "      <td>743055905193857024 #APPLE TRIES to Limit #Goog...</td>\n",
              "      <td>0.000</td>\n",
              "      <td>1.000</td>\n",
              "      <td>0.000</td>\n",
              "      <td>0.0000</td>\n",
              "    </tr>\n",
              "    <tr>\n",
              "      <th>2</th>\n",
              "      <td>743055497725673472 What calls do I sell on $tw...</td>\n",
              "      <td>0.079</td>\n",
              "      <td>0.827</td>\n",
              "      <td>0.094</td>\n",
              "      <td>0.1027</td>\n",
              "    </tr>\n",
              "    <tr>\n",
              "      <th>3</th>\n",
              "      <td>743055311909441536 Good for $AAPL pay? https:/...</td>\n",
              "      <td>0.169</td>\n",
              "      <td>0.482</td>\n",
              "      <td>0.349</td>\n",
              "      <td>0.3612</td>\n",
              "    </tr>\n",
              "    <tr>\n",
              "      <th>4</th>\n",
              "      <td>743055468315185152 Apple may again see a super...</td>\n",
              "      <td>0.000</td>\n",
              "      <td>0.830</td>\n",
              "      <td>0.170</td>\n",
              "      <td>0.5994</td>\n",
              "    </tr>\n",
              "    <tr>\n",
              "      <th>...</th>\n",
              "      <td>...</td>\n",
              "      <td>...</td>\n",
              "      <td>...</td>\n",
              "      <td>...</td>\n",
              "      <td>...</td>\n",
              "    </tr>\n",
              "    <tr>\n",
              "      <th>159859</th>\n",
              "      <td>716328052892897280 “And in a world where you g...</td>\n",
              "      <td>0.000</td>\n",
              "      <td>0.781</td>\n",
              "      <td>0.219</td>\n",
              "      <td>0.6808</td>\n",
              "    </tr>\n",
              "    <tr>\n",
              "      <th>159860</th>\n",
              "      <td>716327961641680898 Why Intel Is Supporting #Ap...</td>\n",
              "      <td>0.000</td>\n",
              "      <td>0.791</td>\n",
              "      <td>0.209</td>\n",
              "      <td>0.4404</td>\n",
              "    </tr>\n",
              "    <tr>\n",
              "      <th>159861</th>\n",
              "      <td>716327961641639937 Why Intel Is Supporting #Ap...</td>\n",
              "      <td>0.000</td>\n",
              "      <td>0.791</td>\n",
              "      <td>0.209</td>\n",
              "      <td>0.4404</td>\n",
              "    </tr>\n",
              "    <tr>\n",
              "      <th>159862</th>\n",
              "      <td>716326132476461058 Here's why #Apple is flying...</td>\n",
              "      <td>0.000</td>\n",
              "      <td>0.812</td>\n",
              "      <td>0.188</td>\n",
              "      <td>0.5719</td>\n",
              "    </tr>\n",
              "    <tr>\n",
              "      <th>159863</th>\n",
              "      <td>716325850564702208 Day Trading Chatroom for FR...</td>\n",
              "      <td>0.000</td>\n",
              "      <td>0.797</td>\n",
              "      <td>0.203</td>\n",
              "      <td>0.6514</td>\n",
              "    </tr>\n",
              "  </tbody>\n",
              "</table>\n",
              "<p>159864 rows × 5 columns</p>\n",
              "</div>"
            ],
            "text/plain": [
              "                                             Tweetcontent  ...  compound\n",
              "0       743055905214889984 #APPLE TRIES to Limit #Goog...  ...    0.0000\n",
              "1       743055905193857024 #APPLE TRIES to Limit #Goog...  ...    0.0000\n",
              "2       743055497725673472 What calls do I sell on $tw...  ...    0.1027\n",
              "3       743055311909441536 Good for $AAPL pay? https:/...  ...    0.3612\n",
              "4       743055468315185152 Apple may again see a super...  ...    0.5994\n",
              "...                                                   ...  ...       ...\n",
              "159859  716328052892897280 “And in a world where you g...  ...    0.6808\n",
              "159860  716327961641680898 Why Intel Is Supporting #Ap...  ...    0.4404\n",
              "159861  716327961641639937 Why Intel Is Supporting #Ap...  ...    0.4404\n",
              "159862  716326132476461058 Here's why #Apple is flying...  ...    0.5719\n",
              "159863  716325850564702208 Day Trading Chatroom for FR...  ...    0.6514\n",
              "\n",
              "[159864 rows x 5 columns]"
            ]
          },
          "metadata": {
            "tags": []
          },
          "execution_count": 60
        }
      ]
    },
    {
      "cell_type": "code",
      "metadata": {
        "id": "XYYkLcGotYMN"
      },
      "source": [
        "every_tweet_score[['Tweet Id','Tweet content']] = pd.DataFrame(every_tweet_score.Tweetcontent.str.split(' ',1).tolist(), columns = ['Tweet Id','Tweet content'])\n",
        "\n",
        "every_tweet_score['Tweet Id'] = every_tweet_score['Tweet Id'].astype(int)\n",
        "\n",
        "tweet_alldata = pd.merge (tweets, every_tweet_score, on = 'Tweet Id')\n",
        "\n",
        "#Let's create a new dataframe, where we will include only those columns that needed for the further analysis\n",
        "tweet_alldata_everycolumn = tweet_alldata[['Tweet Id', 'Date', 'Hour','Tweet content_y', 'compound']].copy()\n",
        "\n",
        "tweet_alldata_tomerge = tweet_alldata_everycolumn[['Date', 'compound']].copy()\n"
      ],
      "execution_count": 61,
      "outputs": []
    },
    {
      "cell_type": "code",
      "metadata": {
        "colab": {
          "base_uri": "https://localhost:8080/",
          "height": 391
        },
        "id": "K4fzPHaaywqT",
        "outputId": "9e1645c8-bb5a-40b1-9592-76275de2364b"
      },
      "source": [
        "tweet_alldata_tomerge"
      ],
      "execution_count": 62,
      "outputs": [
        {
          "output_type": "execute_result",
          "data": {
            "text/html": [
              "<div>\n",
              "<style scoped>\n",
              "    .dataframe tbody tr th:only-of-type {\n",
              "        vertical-align: middle;\n",
              "    }\n",
              "\n",
              "    .dataframe tbody tr th {\n",
              "        vertical-align: top;\n",
              "    }\n",
              "\n",
              "    .dataframe thead th {\n",
              "        text-align: right;\n",
              "    }\n",
              "</style>\n",
              "<table border=\"1\" class=\"dataframe\">\n",
              "  <thead>\n",
              "    <tr style=\"text-align: right;\">\n",
              "      <th></th>\n",
              "      <th>Date</th>\n",
              "      <th>compound</th>\n",
              "    </tr>\n",
              "  </thead>\n",
              "  <tbody>\n",
              "    <tr>\n",
              "      <th>0</th>\n",
              "      <td>2016-06-15</td>\n",
              "      <td>0.0000</td>\n",
              "    </tr>\n",
              "    <tr>\n",
              "      <th>1</th>\n",
              "      <td>2016-06-15</td>\n",
              "      <td>0.0000</td>\n",
              "    </tr>\n",
              "    <tr>\n",
              "      <th>2</th>\n",
              "      <td>2016-06-15</td>\n",
              "      <td>0.1027</td>\n",
              "    </tr>\n",
              "    <tr>\n",
              "      <th>3</th>\n",
              "      <td>2016-06-15</td>\n",
              "      <td>0.3612</td>\n",
              "    </tr>\n",
              "    <tr>\n",
              "      <th>4</th>\n",
              "      <td>2016-06-15</td>\n",
              "      <td>0.5994</td>\n",
              "    </tr>\n",
              "    <tr>\n",
              "      <th>...</th>\n",
              "      <td>...</td>\n",
              "      <td>...</td>\n",
              "    </tr>\n",
              "    <tr>\n",
              "      <th>159859</th>\n",
              "      <td>2016-04-02</td>\n",
              "      <td>0.6808</td>\n",
              "    </tr>\n",
              "    <tr>\n",
              "      <th>159860</th>\n",
              "      <td>2016-04-02</td>\n",
              "      <td>0.4404</td>\n",
              "    </tr>\n",
              "    <tr>\n",
              "      <th>159861</th>\n",
              "      <td>2016-04-02</td>\n",
              "      <td>0.4404</td>\n",
              "    </tr>\n",
              "    <tr>\n",
              "      <th>159862</th>\n",
              "      <td>2016-04-02</td>\n",
              "      <td>0.5719</td>\n",
              "    </tr>\n",
              "    <tr>\n",
              "      <th>159863</th>\n",
              "      <td>2016-04-02</td>\n",
              "      <td>0.6514</td>\n",
              "    </tr>\n",
              "  </tbody>\n",
              "</table>\n",
              "<p>159864 rows × 2 columns</p>\n",
              "</div>"
            ],
            "text/plain": [
              "              Date  compound\n",
              "0       2016-06-15    0.0000\n",
              "1       2016-06-15    0.0000\n",
              "2       2016-06-15    0.1027\n",
              "3       2016-06-15    0.3612\n",
              "4       2016-06-15    0.5994\n",
              "...            ...       ...\n",
              "159859  2016-04-02    0.6808\n",
              "159860  2016-04-02    0.4404\n",
              "159861  2016-04-02    0.4404\n",
              "159862  2016-04-02    0.5719\n",
              "159863  2016-04-02    0.6514\n",
              "\n",
              "[159864 rows x 2 columns]"
            ]
          },
          "metadata": {
            "tags": []
          },
          "execution_count": 62
        }
      ]
    },
    {
      "cell_type": "markdown",
      "metadata": {
        "id": "3QxF9hqqv-eP"
      },
      "source": [
        "##Average Compound Score - ALL"
      ]
    },
    {
      "cell_type": "code",
      "metadata": {
        "colab": {
          "base_uri": "https://localhost:8080/",
          "height": 626
        },
        "id": "g2tlnaWmz8UP",
        "outputId": "9021fb6d-4246-4076-d27a-a8ae64523672"
      },
      "source": [
        "avgcompound_all=tweet_alldata_tomerge.groupby(['Date']).compound.mean().reset_index()\n",
        "\n",
        "avgcompound_all = avgcompound_all.sort_values('Date', ascending=True)\n",
        "\n",
        "showtogether_avg_all=pd.merge (applestockdata, avgcompound_all, on = 'Date')\n",
        "\n",
        "fig,ax = plt.subplots()\n",
        "# make a plot\n",
        "ax.plot(showtogether_avg_all.Date, showtogether_avg_all.Close, color=\"red\", marker=\"o\")\n",
        "# set x-axis label\n",
        "ax.set_xlabel(\"Date\",fontsize=14)\n",
        "# set y-axis label\n",
        "ax.set_ylabel(\"Closing price\",color=\"red\",fontsize=14)\n",
        "\n",
        "# twin object for two different y-axis on the sample plot\n",
        "ax2=ax.twinx()\n",
        "# make a plot with different y-axis using second axis object\n",
        "ax2.plot(showtogether_avg_all.Date, showtogether_avg_all.compound, color=\"blue\",marker=\"o\")\n",
        "ax2.set_ylabel(\"Sentiment score\",color=\"blue\",fontsize=14)"
      ],
      "execution_count": 63,
      "outputs": [
        {
          "output_type": "execute_result",
          "data": {
            "text/plain": [
              "Text(0, 0.5, 'Sentiment score')"
            ]
          },
          "metadata": {
            "tags": []
          },
          "execution_count": 63
        },
        {
          "output_type": "display_data",
          "data": {
            "image/png": "[encoded data removed]",
            "text/plain": [
              "<Figure size 1008x720 with 2 Axes>"
            ]
          },
          "metadata": {
            "tags": [],
            "needs_background": "light"
          }
        }
      ]
    },
    {
      "cell_type": "code",
      "metadata": {
        "id": "AiUgyilX5gdN",
        "colab": {
          "base_uri": "https://localhost:8080/",
          "height": 191
        },
        "outputId": "2f299526-1a5d-4398-a5b3-e2b74436fbe9"
      },
      "source": [
        "showtogether_avg_all.head()"
      ],
      "execution_count": 64,
      "outputs": [
        {
          "output_type": "execute_result",
          "data": {
            "text/html": [
              "<div>\n",
              "<style scoped>\n",
              "    .dataframe tbody tr th:only-of-type {\n",
              "        vertical-align: middle;\n",
              "    }\n",
              "\n",
              "    .dataframe tbody tr th {\n",
              "        vertical-align: top;\n",
              "    }\n",
              "\n",
              "    .dataframe thead th {\n",
              "        text-align: right;\n",
              "    }\n",
              "</style>\n",
              "<table border=\"1\" class=\"dataframe\">\n",
              "  <thead>\n",
              "    <tr style=\"text-align: right;\">\n",
              "      <th></th>\n",
              "      <th>Date</th>\n",
              "      <th>Open</th>\n",
              "      <th>High</th>\n",
              "      <th>Low</th>\n",
              "      <th>Close</th>\n",
              "      <th>Adj Close</th>\n",
              "      <th>Volume</th>\n",
              "      <th>compound</th>\n",
              "    </tr>\n",
              "  </thead>\n",
              "  <tbody>\n",
              "    <tr>\n",
              "      <th>0</th>\n",
              "      <td>2016-04-04</td>\n",
              "      <td>27.605000</td>\n",
              "      <td>28.047501</td>\n",
              "      <td>27.567499</td>\n",
              "      <td>27.780001</td>\n",
              "      <td>25.921675</td>\n",
              "      <td>149424800</td>\n",
              "      <td>0.086245</td>\n",
              "    </tr>\n",
              "    <tr>\n",
              "      <th>1</th>\n",
              "      <td>2016-04-05</td>\n",
              "      <td>27.377501</td>\n",
              "      <td>27.682501</td>\n",
              "      <td>27.355000</td>\n",
              "      <td>27.452499</td>\n",
              "      <td>25.616087</td>\n",
              "      <td>106314800</td>\n",
              "      <td>0.092349</td>\n",
              "    </tr>\n",
              "    <tr>\n",
              "      <th>2</th>\n",
              "      <td>2016-04-06</td>\n",
              "      <td>27.557501</td>\n",
              "      <td>27.745001</td>\n",
              "      <td>27.299999</td>\n",
              "      <td>27.740000</td>\n",
              "      <td>25.884350</td>\n",
              "      <td>105616400</td>\n",
              "      <td>0.135367</td>\n",
              "    </tr>\n",
              "    <tr>\n",
              "      <th>3</th>\n",
              "      <td>2016-04-07</td>\n",
              "      <td>27.487499</td>\n",
              "      <td>27.605000</td>\n",
              "      <td>27.030001</td>\n",
              "      <td>27.135000</td>\n",
              "      <td>25.319826</td>\n",
              "      <td>127207600</td>\n",
              "      <td>0.109141</td>\n",
              "    </tr>\n",
              "    <tr>\n",
              "      <th>4</th>\n",
              "      <td>2016-04-08</td>\n",
              "      <td>27.227501</td>\n",
              "      <td>27.442499</td>\n",
              "      <td>27.042500</td>\n",
              "      <td>27.165001</td>\n",
              "      <td>25.347818</td>\n",
              "      <td>94326800</td>\n",
              "      <td>0.126903</td>\n",
              "    </tr>\n",
              "  </tbody>\n",
              "</table>\n",
              "</div>"
            ],
            "text/plain": [
              "         Date       Open       High  ...  Adj Close     Volume  compound\n",
              "0  2016-04-04  27.605000  28.047501  ...  25.921675  149424800  0.086245\n",
              "1  2016-04-05  27.377501  27.682501  ...  25.616087  106314800  0.092349\n",
              "2  2016-04-06  27.557501  27.745001  ...  25.884350  105616400  0.135367\n",
              "3  2016-04-07  27.487499  27.605000  ...  25.319826  127207600  0.109141\n",
              "4  2016-04-08  27.227501  27.442499  ...  25.347818   94326800  0.126903\n",
              "\n",
              "[5 rows x 8 columns]"
            ]
          },
          "metadata": {
            "tags": []
          },
          "execution_count": 64
        }
      ]
    },
    {
      "cell_type": "code",
      "metadata": {
        "colab": {
          "base_uri": "https://localhost:8080/",
          "height": 33
        },
        "id": "t0h9Ei15tMFG",
        "outputId": "8c12aa45-f98d-4b4c-849d-b24e0da99e91"
      },
      "source": [
        "create_download_link2(showtogether_avg_all)"
      ],
      "execution_count": 65,
      "outputs": [
        {
          "output_type": "execute_result",
          "data": {
            "text/html": [
              "<a download=\"data.csv\" href=\"data:text/csv;base64,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\" target=\"_blank\">Download CSV file</a>"
            ],
            "text/plain": [
              "<IPython.core.display.HTML object>"
            ]
          },
          "metadata": {
            "tags": []
          },
          "execution_count": 65
        }
      ]
    },
    {
      "cell_type": "markdown",
      "metadata": {
        "id": "7iUIZ4DlzQoh"
      },
      "source": [
        "##Aggregated Compound Score - ALL"
      ]
    },
    {
      "cell_type": "markdown",
      "metadata": {
        "id": "9MeWp72vzUbX"
      },
      "source": [
        "And now let's see the same for the aggregated compound score."
      ]
    },
    {
      "cell_type": "code",
      "metadata": {
        "colab": {
          "base_uri": "https://localhost:8080/",
          "height": 626
        },
        "id": "umYmgdqNzcz2",
        "outputId": "97d3dd3d-c35d-4ed8-a44d-d7ee5f7dfe2a"
      },
      "source": [
        "aggcompound_all=tweet_alldata_tomerge.groupby(['Date']).compound.sum().reset_index()\n",
        "\n",
        "aggcompound_all = aggcompound_all.sort_values('Date', ascending=True)\n",
        "\n",
        "showtogether_agg_all=pd.merge (applestockdata, aggcompound_all, on = 'Date')\n",
        "\n",
        "fig,ax = plt.subplots()\n",
        "# make a plot\n",
        "ax.plot(showtogether_agg_all.Date, showtogether_agg_all.Close, color=\"red\", marker=\"o\")\n",
        "# set x-axis label\n",
        "ax.set_xlabel(\"Date\",fontsize=14)\n",
        "# set y-axis label\n",
        "ax.set_ylabel(\"Closing price\",color=\"red\",fontsize=14)\n",
        "\n",
        "# twin object for two different y-axis on the sample plot\n",
        "ax2=ax.twinx()\n",
        "# make a plot with different y-axis using second axis object\n",
        "ax2.plot(showtogether_agg_all.Date, showtogether_agg_all.compound, color=\"blue\",marker=\"o\")\n",
        "ax2.set_ylabel(\"Sentiment score\",color=\"blue\",fontsize=14)\n"
      ],
      "execution_count": 66,
      "outputs": [
        {
          "output_type": "execute_result",
          "data": {
            "text/plain": [
              "Text(0, 0.5, 'Sentiment score')"
            ]
          },
          "metadata": {
            "tags": []
          },
          "execution_count": 66
        },
        {
          "output_type": "display_data",
          "data": {
            "image/png": "[encoded data removed]",
            "text/plain": [
              "<Figure size 1008x720 with 2 Axes>"
            ]
          },
          "metadata": {
            "tags": [],
            "needs_background": "light"
          }
        }
      ]
    },
    {
      "cell_type": "code",
      "metadata": {
        "id": "y5vT5RQj0I88",
        "colab": {
          "base_uri": "https://localhost:8080/",
          "height": 33
        },
        "outputId": "f732e35b-1855-4976-92c5-73e1ed259c94"
      },
      "source": [
        "create_download_link2(showtogether_agg_all)"
      ],
      "execution_count": 72,
      "outputs": [
        {
          "output_type": "execute_result",
          "data": {
            "text/html": [
              "<a download=\"data.csv\" href=\"data:text/csv;base64,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\" target=\"_blank\">Download CSV file</a>"
            ],
            "text/plain": [
              "<IPython.core.display.HTML object>"
            ]
          },
          "metadata": {
            "tags": []
          },
          "execution_count": 72
        }
      ]
    }
  ]
}