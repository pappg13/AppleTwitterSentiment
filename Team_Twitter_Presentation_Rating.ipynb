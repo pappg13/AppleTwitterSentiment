{
  "nbformat": 4,
  "nbformat_minor": 0,
  "metadata": {
    "colab": {
      "name": "Team Twitter - Presentation Rating",
      "provenance": [],
      "collapsed_sections": [],
      "authorship_tag": "ABX9TyMbs7Bi6La+kNB+j0Yz+TjJ",
      "include_colab_link": true
    },
    "kernelspec": {
      "name": "python3",
      "display_name": "Python 3"
    }
  },
  "cells": [
    {
      "cell_type": "markdown",
      "metadata": {
        "id": "view-in-github",
        "colab_type": "text"
      },
      "source": [
        "<a href=\"https://colab.research.google.com/github/pappg13/AppleTwitterSentiment/blob/main/Team_Twitter_Presentation_Rating.ipynb\" target=\"_parent\"><img src=\"https://colab.research.google.com/assets/colab-badge.svg\" alt=\"Open In Colab\"/></a>"
      ]
    },
    {
      "cell_type": "code",
      "metadata": {
        "id": "uzQhqY0Pz0qx"
      },
      "source": [
        "import pandas as pd\r\n",
        "import numpy as np\r\n",
        "import matplotlib.pylab as plt"
      ],
      "execution_count": 1,
      "outputs": []
    },
    {
      "cell_type": "code",
      "metadata": {
        "colab": {
          "base_uri": "https://localhost:8080/"
        },
        "id": "MANGcKFBzhW2",
        "outputId": "9ca8f765-6ea0-4a26-b317-1b56efc72289"
      },
      "source": [
        "pip install vaderSentiment"
      ],
      "execution_count": 2,
      "outputs": [
        {
          "output_type": "stream",
          "text": [
            "Requirement already satisfied: vaderSentiment in /usr/local/lib/python3.6/dist-packages (3.3.2)\n",
            "Requirement already satisfied: requests in /usr/local/lib/python3.6/dist-packages (from vaderSentiment) (2.23.0)\n",
            "Requirement already satisfied: certifi>=2017.4.17 in /usr/local/lib/python3.6/dist-packages (from requests->vaderSentiment) (2020.12.5)\n",
            "Requirement already satisfied: urllib3!=1.25.0,!=1.25.1,<1.26,>=1.21.1 in /usr/local/lib/python3.6/dist-packages (from requests->vaderSentiment) (1.24.3)\n",
            "Requirement already satisfied: chardet<4,>=3.0.2 in /usr/local/lib/python3.6/dist-packages (from requests->vaderSentiment) (3.0.4)\n",
            "Requirement already satisfied: idna<3,>=2.5 in /usr/local/lib/python3.6/dist-packages (from requests->vaderSentiment) (2.10)\n"
          ],
          "name": "stdout"
        }
      ]
    },
    {
      "cell_type": "code",
      "metadata": {
        "id": "M1IjCfW-zqzQ"
      },
      "source": [
        "from vaderSentiment.vaderSentiment import SentimentIntensityAnalyzer\r\n",
        "\r\n",
        "analyser = SentimentIntensityAnalyzer()"
      ],
      "execution_count": 3,
      "outputs": []
    },
    {
      "cell_type": "code",
      "metadata": {
        "id": "nTWSE5WczwZZ"
      },
      "source": [
        "def print_sentiment_scores(sentence):\r\n",
        "    snt = analyser.polarity_scores(sentence)\r\n",
        "    print(\"{:-<40} {}\".format(sentence, str(snt)))"
      ],
      "execution_count": 4,
      "outputs": []
    },
    {
      "cell_type": "code",
      "metadata": {
        "colab": {
          "base_uri": "https://localhost:8080/"
        },
        "id": "-ZlLnlfd0ncp",
        "outputId": "bc18b338-d39f-4887-ea13-1d5548998e03"
      },
      "source": [
        "#This code does the categorisation. The compound score is the one that we need.\r\n",
        "print_sentiment_scores(\"The class was AWESOME today!!!!!!!\")"
      ],
      "execution_count": 5,
      "outputs": [
        {
          "output_type": "stream",
          "text": [
            "The class was AWESOME today!!!!!!!------ {'neg': 0.0, 'neu': 0.4, 'pos': 0.6, 'compound': 0.7906}\n"
          ],
          "name": "stdout"
        }
      ]
    },
    {
      "cell_type": "code",
      "metadata": {
        "colab": {
          "base_uri": "https://localhost:8080/",
          "height": 35
        },
        "id": "YZojDsSv2GRe",
        "outputId": "2120bb61-66b4-41b6-cc1f-836de9d99125"
      },
      "source": [
        "'''from google.colab import drive\r\n",
        "drive.mount('/content/drive')'''"
      ],
      "execution_count": 6,
      "outputs": [
        {
          "output_type": "execute_result",
          "data": {
            "application/vnd.google.colaboratory.intrinsic+json": {
              "type": "string"
            },
            "text/plain": [
              "\"from google.colab import drive\\ndrive.mount('/content/drive')\""
            ]
          },
          "metadata": {
            "tags": []
          },
          "execution_count": 6
        }
      ]
    },
    {
      "cell_type": "code",
      "metadata": {
        "id": "C-NzjMBh2_Br"
      },
      "source": [
        "from google.colab import auth\r\n",
        "auth.authenticate_user()\r\n",
        "\r\n",
        "import gspread\r\n",
        "from oauth2client.client import GoogleCredentials\r\n",
        "\r\n",
        "gc = gspread.authorize(GoogleCredentials.get_application_default())\r\n",
        "\r\n",
        "worksheet = gc.open('Team Twitter - Presentation Sentiment').sheet1"
      ],
      "execution_count": 7,
      "outputs": []
    },
    {
      "cell_type": "code",
      "metadata": {
        "colab": {
          "base_uri": "https://localhost:8080/"
        },
        "id": "GY6M99F43Nf0",
        "outputId": "6ae4579a-bcdd-4fea-d995-7382082a85a1"
      },
      "source": [
        "# get_all_values gives a list of rows.\r\n",
        "rows = worksheet.get_all_values()\r\n",
        "print(rows)"
      ],
      "execution_count": 8,
      "outputs": [
        {
          "output_type": "stream",
          "text": [
            "[['Feedback', 'Neg', 'Pos', 'Neu', 'Sentiment Score', '', '', '', ''], ['The prezi was cool', '', '', '', '0', '', '', 'Average Sentiment Score:', '0'], ['Good job guys!!', '', '', '', '', '', '', '', ''], ['WTF was this?', '', '', '', '', '', '', '', ''], ['I loved the examples', '', '', '', '', '', '', '', ''], ['How coll that was??', '', '', '', '', '', '', '', '']]\n"
          ],
          "name": "stdout"
        }
      ]
    },
    {
      "cell_type": "code",
      "metadata": {
        "colab": {
          "base_uri": "https://localhost:8080/",
          "height": 191
        },
        "id": "toQG8-VO3YSd",
        "outputId": "2bf04d62-abd9-4385-b38d-73753ad971f7"
      },
      "source": [
        "# Convert to a DataFrame and render.\r\n",
        "import pandas as pd\r\n",
        "table=pd.DataFrame.from_records(rows)\r\n",
        "table.head()"
      ],
      "execution_count": 9,
      "outputs": [
        {
          "output_type": "execute_result",
          "data": {
            "text/html": [
              "<div>\n",
              "<style scoped>\n",
              "    .dataframe tbody tr th:only-of-type {\n",
              "        vertical-align: middle;\n",
              "    }\n",
              "\n",
              "    .dataframe tbody tr th {\n",
              "        vertical-align: top;\n",
              "    }\n",
              "\n",
              "    .dataframe thead th {\n",
              "        text-align: right;\n",
              "    }\n",
              "</style>\n",
              "<table border=\"1\" class=\"dataframe\">\n",
              "  <thead>\n",
              "    <tr style=\"text-align: right;\">\n",
              "      <th></th>\n",
              "      <th>0</th>\n",
              "      <th>1</th>\n",
              "      <th>2</th>\n",
              "      <th>3</th>\n",
              "      <th>4</th>\n",
              "      <th>5</th>\n",
              "      <th>6</th>\n",
              "      <th>7</th>\n",
              "      <th>8</th>\n",
              "    </tr>\n",
              "  </thead>\n",
              "  <tbody>\n",
              "    <tr>\n",
              "      <th>0</th>\n",
              "      <td>Feedback</td>\n",
              "      <td>Neg</td>\n",
              "      <td>Pos</td>\n",
              "      <td>Neu</td>\n",
              "      <td>Sentiment Score</td>\n",
              "      <td></td>\n",
              "      <td></td>\n",
              "      <td></td>\n",
              "      <td></td>\n",
              "    </tr>\n",
              "    <tr>\n",
              "      <th>1</th>\n",
              "      <td>The prezi was cool</td>\n",
              "      <td></td>\n",
              "      <td></td>\n",
              "      <td></td>\n",
              "      <td>0</td>\n",
              "      <td></td>\n",
              "      <td></td>\n",
              "      <td>Average Sentiment Score:</td>\n",
              "      <td>0</td>\n",
              "    </tr>\n",
              "    <tr>\n",
              "      <th>2</th>\n",
              "      <td>Good job guys!!</td>\n",
              "      <td></td>\n",
              "      <td></td>\n",
              "      <td></td>\n",
              "      <td></td>\n",
              "      <td></td>\n",
              "      <td></td>\n",
              "      <td></td>\n",
              "      <td></td>\n",
              "    </tr>\n",
              "    <tr>\n",
              "      <th>3</th>\n",
              "      <td>WTF was this?</td>\n",
              "      <td></td>\n",
              "      <td></td>\n",
              "      <td></td>\n",
              "      <td></td>\n",
              "      <td></td>\n",
              "      <td></td>\n",
              "      <td></td>\n",
              "      <td></td>\n",
              "    </tr>\n",
              "    <tr>\n",
              "      <th>4</th>\n",
              "      <td>I loved the examples</td>\n",
              "      <td></td>\n",
              "      <td></td>\n",
              "      <td></td>\n",
              "      <td></td>\n",
              "      <td></td>\n",
              "      <td></td>\n",
              "      <td></td>\n",
              "      <td></td>\n",
              "    </tr>\n",
              "  </tbody>\n",
              "</table>\n",
              "</div>"
            ],
            "text/plain": [
              "                      0    1    2    3  ... 5 6                         7  8\n",
              "0              Feedback  Neg  Pos  Neu  ...                                 \n",
              "1    The prezi was cool                 ...      Average Sentiment Score:  0\n",
              "2       Good job guys!!                 ...                                 \n",
              "3         WTF was this?                 ...                                 \n",
              "4  I loved the examples                 ...                                 \n",
              "\n",
              "[5 rows x 9 columns]"
            ]
          },
          "metadata": {
            "tags": []
          },
          "execution_count": 9
        }
      ]
    },
    {
      "cell_type": "code",
      "metadata": {
        "id": "FgPqi2i_4MjN"
      },
      "source": [
        "new_header = table.iloc[0] #grab the first row for the header\r\n",
        "table = table[1:] #take the data less the header row\r\n",
        "table.columns = new_header #set the header row as the df header"
      ],
      "execution_count": 10,
      "outputs": []
    },
    {
      "cell_type": "code",
      "metadata": {
        "colab": {
          "base_uri": "https://localhost:8080/",
          "height": 191
        },
        "id": "3ExbaaBc4urZ",
        "outputId": "46587595-9092-488d-eed3-c9f44b323c8b"
      },
      "source": [
        "table.head()"
      ],
      "execution_count": 11,
      "outputs": [
        {
          "output_type": "execute_result",
          "data": {
            "text/html": [
              "<div>\n",
              "<style scoped>\n",
              "    .dataframe tbody tr th:only-of-type {\n",
              "        vertical-align: middle;\n",
              "    }\n",
              "\n",
              "    .dataframe tbody tr th {\n",
              "        vertical-align: top;\n",
              "    }\n",
              "\n",
              "    .dataframe thead th {\n",
              "        text-align: right;\n",
              "    }\n",
              "</style>\n",
              "<table border=\"1\" class=\"dataframe\">\n",
              "  <thead>\n",
              "    <tr style=\"text-align: right;\">\n",
              "      <th></th>\n",
              "      <th>Feedback</th>\n",
              "      <th>Neg</th>\n",
              "      <th>Pos</th>\n",
              "      <th>Neu</th>\n",
              "      <th>Sentiment Score</th>\n",
              "      <th></th>\n",
              "      <th></th>\n",
              "      <th></th>\n",
              "      <th></th>\n",
              "    </tr>\n",
              "  </thead>\n",
              "  <tbody>\n",
              "    <tr>\n",
              "      <th>1</th>\n",
              "      <td>The prezi was cool</td>\n",
              "      <td></td>\n",
              "      <td></td>\n",
              "      <td></td>\n",
              "      <td>0</td>\n",
              "      <td></td>\n",
              "      <td></td>\n",
              "      <td>Average Sentiment Score:</td>\n",
              "      <td>0</td>\n",
              "    </tr>\n",
              "    <tr>\n",
              "      <th>2</th>\n",
              "      <td>Good job guys!!</td>\n",
              "      <td></td>\n",
              "      <td></td>\n",
              "      <td></td>\n",
              "      <td></td>\n",
              "      <td></td>\n",
              "      <td></td>\n",
              "      <td></td>\n",
              "      <td></td>\n",
              "    </tr>\n",
              "    <tr>\n",
              "      <th>3</th>\n",
              "      <td>WTF was this?</td>\n",
              "      <td></td>\n",
              "      <td></td>\n",
              "      <td></td>\n",
              "      <td></td>\n",
              "      <td></td>\n",
              "      <td></td>\n",
              "      <td></td>\n",
              "      <td></td>\n",
              "    </tr>\n",
              "    <tr>\n",
              "      <th>4</th>\n",
              "      <td>I loved the examples</td>\n",
              "      <td></td>\n",
              "      <td></td>\n",
              "      <td></td>\n",
              "      <td></td>\n",
              "      <td></td>\n",
              "      <td></td>\n",
              "      <td></td>\n",
              "      <td></td>\n",
              "    </tr>\n",
              "    <tr>\n",
              "      <th>5</th>\n",
              "      <td>How coll that was??</td>\n",
              "      <td></td>\n",
              "      <td></td>\n",
              "      <td></td>\n",
              "      <td></td>\n",
              "      <td></td>\n",
              "      <td></td>\n",
              "      <td></td>\n",
              "      <td></td>\n",
              "    </tr>\n",
              "  </tbody>\n",
              "</table>\n",
              "</div>"
            ],
            "text/plain": [
              "0              Feedback Neg Pos Neu  ...                                 \n",
              "1    The prezi was cool              ...      Average Sentiment Score:  0\n",
              "2       Good job guys!!              ...                                 \n",
              "3         WTF was this?              ...                                 \n",
              "4  I loved the examples              ...                                 \n",
              "5   How coll that was??              ...                                 \n",
              "\n",
              "[5 rows x 9 columns]"
            ]
          },
          "metadata": {
            "tags": []
          },
          "execution_count": 11
        }
      ]
    },
    {
      "cell_type": "code",
      "metadata": {
        "id": "PzBcVkKf5CLX"
      },
      "source": [
        "list_of_feedback = table['Feedback'].to_list()"
      ],
      "execution_count": 12,
      "outputs": []
    },
    {
      "cell_type": "code",
      "metadata": {
        "colab": {
          "base_uri": "https://localhost:8080/",
          "height": 191
        },
        "id": "7tSjamac5Lxz",
        "outputId": "657531c0-ed6b-4a09-cecc-c85cc5e620ed"
      },
      "source": [
        "scores = []\r\n",
        "for texts in list_of_feedback:\r\n",
        "    vs = analyser.polarity_scores(texts)\r\n",
        "    scores.append(vs)\r\n",
        "data = pd.DataFrame(list_of_feedback, columns= ['Feedback'])\r\n",
        "data2 = pd.DataFrame(scores)\r\n",
        "final_dataset= pd.concat([data,data2], axis=1)\r\n",
        "final_dataset.head()"
      ],
      "execution_count": 13,
      "outputs": [
        {
          "output_type": "execute_result",
          "data": {
            "text/html": [
              "<div>\n",
              "<style scoped>\n",
              "    .dataframe tbody tr th:only-of-type {\n",
              "        vertical-align: middle;\n",
              "    }\n",
              "\n",
              "    .dataframe tbody tr th {\n",
              "        vertical-align: top;\n",
              "    }\n",
              "\n",
              "    .dataframe thead th {\n",
              "        text-align: right;\n",
              "    }\n",
              "</style>\n",
              "<table border=\"1\" class=\"dataframe\">\n",
              "  <thead>\n",
              "    <tr style=\"text-align: right;\">\n",
              "      <th></th>\n",
              "      <th>Feedback</th>\n",
              "      <th>neg</th>\n",
              "      <th>neu</th>\n",
              "      <th>pos</th>\n",
              "      <th>compound</th>\n",
              "    </tr>\n",
              "  </thead>\n",
              "  <tbody>\n",
              "    <tr>\n",
              "      <th>0</th>\n",
              "      <td>The prezi was cool</td>\n",
              "      <td>0.000</td>\n",
              "      <td>0.566</td>\n",
              "      <td>0.434</td>\n",
              "      <td>0.3182</td>\n",
              "    </tr>\n",
              "    <tr>\n",
              "      <th>1</th>\n",
              "      <td>Good job guys!!</td>\n",
              "      <td>0.000</td>\n",
              "      <td>0.365</td>\n",
              "      <td>0.635</td>\n",
              "      <td>0.5399</td>\n",
              "    </tr>\n",
              "    <tr>\n",
              "      <th>2</th>\n",
              "      <td>WTF was this?</td>\n",
              "      <td>0.694</td>\n",
              "      <td>0.306</td>\n",
              "      <td>0.000</td>\n",
              "      <td>-0.6739</td>\n",
              "    </tr>\n",
              "    <tr>\n",
              "      <th>3</th>\n",
              "      <td>I loved the examples</td>\n",
              "      <td>0.000</td>\n",
              "      <td>0.435</td>\n",
              "      <td>0.565</td>\n",
              "      <td>0.5994</td>\n",
              "    </tr>\n",
              "    <tr>\n",
              "      <th>4</th>\n",
              "      <td>How coll that was??</td>\n",
              "      <td>0.000</td>\n",
              "      <td>1.000</td>\n",
              "      <td>0.000</td>\n",
              "      <td>0.0000</td>\n",
              "    </tr>\n",
              "  </tbody>\n",
              "</table>\n",
              "</div>"
            ],
            "text/plain": [
              "               Feedback    neg    neu    pos  compound\n",
              "0    The prezi was cool  0.000  0.566  0.434    0.3182\n",
              "1       Good job guys!!  0.000  0.365  0.635    0.5399\n",
              "2         WTF was this?  0.694  0.306  0.000   -0.6739\n",
              "3  I loved the examples  0.000  0.435  0.565    0.5994\n",
              "4   How coll that was??  0.000  1.000  0.000    0.0000"
            ]
          },
          "metadata": {
            "tags": []
          },
          "execution_count": 13
        }
      ]
    },
    {
      "cell_type": "code",
      "metadata": {
        "colab": {
          "base_uri": "https://localhost:8080/",
          "height": 33
        },
        "id": "VhUB83Aj5o9E",
        "outputId": "039fc062-228a-429e-847e-0fec35c1048c"
      },
      "source": [
        "import base64\r\n",
        "import pandas as pd\r\n",
        "from IPython.display import HTML\r\n",
        "\r\n",
        "def create_download_link2( df, title = \"Download CSV file\", filename = \"data.csv\"):\r\n",
        "    csv = df.to_csv()\r\n",
        "    b64 = base64.b64encode(csv.encode())\r\n",
        "    payload = b64.decode()\r\n",
        "    html = '<a download=\"{filename}\" href=\"data:text/csv;base64,{payload}\" target=\"_blank\">{title}</a>'\r\n",
        "    html = html.format(payload=payload,title=title,filename=filename)\r\n",
        "    return HTML(html)\r\n",
        "\r\n",
        "#df = twittersentiment.DataFrame(data = [[1,2],[3,4]], columns=['Col 1', 'Col 2'])\r\n",
        "create_download_link2(final_dataset)"
      ],
      "execution_count": 14,
      "outputs": [
        {
          "output_type": "execute_result",
          "data": {
            "text/html": [
              "<a download=\"data.csv\" href=\"data:text/csv;base64,LEZlZWRiYWNrLG5lZyxuZXUscG9zLGNvbXBvdW5kCjAsVGhlIHByZXppIHdhcyBjb29sLDAuMCwwLjU2NiwwLjQzNCwwLjMxODIKMSxHb29kIGpvYiBndXlzISEsMC4wLDAuMzY1LDAuNjM1LDAuNTM5OQoyLFdURiB3YXMgdGhpcz8sMC42OTQsMC4zMDYsMC4wLC0wLjY3MzkKMyxJIGxvdmVkIHRoZSBleGFtcGxlcywwLjAsMC40MzUsMC41NjUsMC41OTk0CjQsSG93IGNvbGwgdGhhdCB3YXM/PywwLjAsMS4wLDAuMCwwLjAK\" target=\"_blank\">Download CSV file</a>"
            ],
            "text/plain": [
              "<IPython.core.display.HTML object>"
            ]
          },
          "metadata": {
            "tags": []
          },
          "execution_count": 14
        }
      ]
    }
  ]
}